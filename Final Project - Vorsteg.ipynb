{
 "cells": [
  {
   "cell_type": "markdown",
   "metadata": {},
   "source": [
    "Analyzing post content and sentiment - Matthew Vorsteg\n",
    "\n",
    "In this section I am using NLTK, Scikit-Learn and a few other libraries to categorize all of the posts into different categories. The first step is to install all of NLTK, and also VADER (Valence Aware Dictionary and sEntiment Reasoner) which will be used for sentiment analysis.\n",
    "\n",
    "Firstly, I will be breaking categorizing all of r/UMD's posts into different groups. No posts are labeled already, and in fact the categories are not defined yet. We will be using Scikit-Learn's KMeans algorithm, which requires us to properly prepare our text dataset and create a TF-IDF Matrix. This will be an example of unsupervised machine learning, as we do not have a labeled dataset to test the KMeans model."
   ]
  },
  {
   "cell_type": "code",
   "execution_count": 59,
   "metadata": {},
   "outputs": [
    {
     "name": "stdout",
     "output_type": "stream",
     "text": [
      "Requirement already satisfied: nltk in /opt/conda/lib/python3.7/site-packages (3.4.5)\n",
      "Requirement already satisfied: six in /opt/conda/lib/python3.7/site-packages (from nltk) (1.13.0)\n",
      "Requirement already satisfied: vaderSentiment in /opt/conda/lib/python3.7/site-packages (3.2.1)\n",
      "Collecting plotly\n",
      "\u001b[?25l  Downloading https://files.pythonhosted.org/packages/8e/ce/6ea5683c47b682bffad39ad41d10913141b560b1b875a90dbc6abe3f4fa9/plotly-4.4.1-py2.py3-none-any.whl (7.3MB)\n",
      "\u001b[K     |████████████████████████████████| 7.3MB 4.5MB/s eta 0:00:01\n",
      "\u001b[?25hCollecting retrying>=1.3.3\n",
      "  Downloading https://files.pythonhosted.org/packages/44/ef/beae4b4ef80902f22e3af073397f079c96969c69b2c7d52a57ea9ae61c9d/retrying-1.3.3.tar.gz\n",
      "Requirement already satisfied: six in /opt/conda/lib/python3.7/site-packages (from plotly) (1.13.0)\n",
      "Building wheels for collected packages: retrying\n",
      "  Building wheel for retrying (setup.py) ... \u001b[?25ldone\n",
      "\u001b[?25h  Created wheel for retrying: filename=retrying-1.3.3-cp37-none-any.whl size=11429 sha256=d2db92fdab5819290512ba13432a589e682277b597829b8e94a611cdc3d003de\n",
      "  Stored in directory: /home/jovyan/.cache/pip/wheels/d7/a9/33/acc7b709e2a35caa7d4cae442f6fe6fbf2c43f80823d46460c\n",
      "Successfully built retrying\n",
      "Installing collected packages: retrying, plotly\n",
      "Successfully installed plotly-4.4.1 retrying-1.3.3\n"
     ]
    }
   ],
   "source": [
    "!pip install nltk\n",
    "!pip install vaderSentiment\n",
    "!pip install plotly"
   ]
  },
  {
   "cell_type": "code",
   "execution_count": 60,
   "metadata": {},
   "outputs": [
    {
     "name": "stderr",
     "output_type": "stream",
     "text": [
      "[nltk_data] Downloading package punkt to /home/jovyan/nltk_data...\n",
      "[nltk_data]   Package punkt is already up-to-date!\n",
      "[nltk_data] Downloading package averaged_perceptron_tagger to\n",
      "[nltk_data]     /home/jovyan/nltk_data...\n",
      "[nltk_data]   Package averaged_perceptron_tagger is already up-to-\n",
      "[nltk_data]       date!\n",
      "[nltk_data] Downloading package stopwords to /home/jovyan/nltk_data...\n",
      "[nltk_data]   Package stopwords is already up-to-date!\n"
     ]
    }
   ],
   "source": [
    "import nltk\n",
    "nltk.download('punkt')\n",
    "nltk.download('averaged_perceptron_tagger')\n",
    "nltk.download('stopwords')\n",
    "from nltk.stem import PorterStemmer\n",
    "from nltk.corpus import stopwords\n",
    "import re\n",
    "import pandas as pd\n",
    "import plotly.express as px\n",
    "import sqlite3\n",
    "import seaborn as sns\n",
    "import matplotlib.pyplot as plt\n",
    "import matplotlib.font_manager\n",
    "from sklearn.feature_extraction.text import TfidfVectorizer\n",
    "from sklearn.cluster import KMeans\n",
    "from sklearn.metrics import adjusted_rand_score\n",
    "from random import randint\n",
    "from vaderSentiment.vaderSentiment import SentimentIntensityAnalyzer"
   ]
  },
  {
   "cell_type": "code",
   "execution_count": 4,
   "metadata": {},
   "outputs": [],
   "source": [
    "#connect to the sql db\n",
    "conn = sqlite3.connect('R_UMD.db')\n",
    "df_post = pd.read_sql('SELECT * FROM post', conn)"
   ]
  },
  {
   "cell_type": "markdown",
   "metadata": {},
   "source": [
    "We need to define a function to clean up our text. This function combines tokenization into stemming, as well as removing our stopwords. This effectively 'sanitizes' our text and makes it about as uniform as possible."
   ]
  },
  {
   "cell_type": "code",
   "execution_count": 3,
   "metadata": {},
   "outputs": [],
   "source": [
    "#create stemmer and stopwords\n",
    "ps = PorterStemmer()\n",
    "words = stopwords.words('english')\n",
    "\n",
    "#breaks words into stems, forces them into lowercase, tokenizes based on whitespace, and removes stopwords\n",
    "def clean(x) :\n",
    "    return ' '.join([ps.stem(i) for i in re.sub('[^a-zA-Z]', ' ', x).split() if i not in words]).lower()"
   ]
  },
  {
   "cell_type": "markdown",
   "metadata": {},
   "source": [
    "Now that we have defined our tokenization function, we can use it to clean up our dataset.\n",
    "Let's go ahead and apply it to both the title and the body of the post, and save the 'clean' versions as new columns.\n",
    "While we're at it, we can add a new column which contains the title appended to the body. For most of our analysis, we will treat the combination of title and body as the text of each post."
   ]
  },
  {
   "cell_type": "code",
   "execution_count": 5,
   "metadata": {},
   "outputs": [
    {
     "data": {
      "text/html": [
       "<div>\n",
       "<style scoped>\n",
       "    .dataframe tbody tr th:only-of-type {\n",
       "        vertical-align: middle;\n",
       "    }\n",
       "\n",
       "    .dataframe tbody tr th {\n",
       "        vertical-align: top;\n",
       "    }\n",
       "\n",
       "    .dataframe thead th {\n",
       "        text-align: right;\n",
       "    }\n",
       "</style>\n",
       "<table border=\"1\" class=\"dataframe\">\n",
       "  <thead>\n",
       "    <tr style=\"text-align: right;\">\n",
       "      <th></th>\n",
       "      <th>id</th>\n",
       "      <th>name</th>\n",
       "      <th>url</th>\n",
       "      <th>title</th>\n",
       "      <th>selftext</th>\n",
       "      <th>score</th>\n",
       "      <th>created_utc</th>\n",
       "      <th>permalink</th>\n",
       "      <th>link_flair_text</th>\n",
       "      <th>doc</th>\n",
       "    </tr>\n",
       "  </thead>\n",
       "  <tbody>\n",
       "    <tr>\n",
       "      <th>0</th>\n",
       "      <td>dxv1c4</td>\n",
       "      <td>Baking-and-books</td>\n",
       "      <td>https://www.reddit.com/r/UMD/comments/dxv1c4/r...</td>\n",
       "      <td>Re-Leasing Apartment!</td>\n",
       "      <td>Re-Leasing my room in Commons 6. Amazing room...</td>\n",
       "      <td>1</td>\n",
       "      <td>1.574036e+09</td>\n",
       "      <td>/r/UMD/comments/dxv1c4/releasing_apartment/</td>\n",
       "      <td>Housing</td>\n",
       "      <td>re leas apartre leas room common amaz roommat ...</td>\n",
       "    </tr>\n",
       "    <tr>\n",
       "      <th>1</th>\n",
       "      <td>dxuxzp</td>\n",
       "      <td>cdrgnvrk</td>\n",
       "      <td>https://www.reddit.com/r/UMD/comments/dxuxzp/e...</td>\n",
       "      <td>Eduroam ACTUALLY sucks dick</td>\n",
       "      <td>Fuck the division of IT for allowing this bull...</td>\n",
       "      <td>1</td>\n",
       "      <td>1.574035e+09</td>\n",
       "      <td>/r/UMD/comments/dxuxzp/eduroam_actually_sucks_...</td>\n",
       "      <td>None</td>\n",
       "      <td>eduroam actual suck dickfuck divis it allow bu...</td>\n",
       "    </tr>\n",
       "    <tr>\n",
       "      <th>2</th>\n",
       "      <td>dxuwpy</td>\n",
       "      <td>TonyChen616</td>\n",
       "      <td>https://v.redd.it/z0rvpzqi4cz31</td>\n",
       "      <td>OG Legends Strikes Again</td>\n",
       "      <td></td>\n",
       "      <td>4</td>\n",
       "      <td>1.574035e+09</td>\n",
       "      <td>/r/UMD/comments/dxuwpy/og_legends_strikes_again/</td>\n",
       "      <td>Discussion</td>\n",
       "      <td>og legend strike again</td>\n",
       "    </tr>\n",
       "    <tr>\n",
       "      <th>3</th>\n",
       "      <td>dxu8we</td>\n",
       "      <td>Shalleycat</td>\n",
       "      <td>https://www.reddit.com/r/UMD/comments/dxu8we/s...</td>\n",
       "      <td>Sustainable turtle sticker</td>\n",
       "      <td>Anyone know where I can get one of those susta...</td>\n",
       "      <td>1</td>\n",
       "      <td>1.574032e+09</td>\n",
       "      <td>/r/UMD/comments/dxu8we/sustainable_turtle_stic...</td>\n",
       "      <td>None</td>\n",
       "      <td>sustain turtl stickeranyon know i get one sust...</td>\n",
       "    </tr>\n",
       "    <tr>\n",
       "      <th>4</th>\n",
       "      <td>dxttl0</td>\n",
       "      <td>Rooser1212</td>\n",
       "      <td>https://www.reddit.com/r/UMD/comments/dxttl0/s...</td>\n",
       "      <td>Spring/Summer 2020 Sublease</td>\n",
       "      <td>I am studying abroad next semester and am look...</td>\n",
       "      <td>1</td>\n",
       "      <td>1.574030e+09</td>\n",
       "      <td>/r/UMD/comments/dxttl0/springsummer_2020_suble...</td>\n",
       "      <td>Housing</td>\n",
       "      <td>spring summer subleasi studi abroad next semes...</td>\n",
       "    </tr>\n",
       "  </tbody>\n",
       "</table>\n",
       "</div>"
      ],
      "text/plain": [
       "       id              name  \\\n",
       "0  dxv1c4  Baking-and-books   \n",
       "1  dxuxzp          cdrgnvrk   \n",
       "2  dxuwpy       TonyChen616   \n",
       "3  dxu8we        Shalleycat   \n",
       "4  dxttl0        Rooser1212   \n",
       "\n",
       "                                                 url  \\\n",
       "0  https://www.reddit.com/r/UMD/comments/dxv1c4/r...   \n",
       "1  https://www.reddit.com/r/UMD/comments/dxuxzp/e...   \n",
       "2                    https://v.redd.it/z0rvpzqi4cz31   \n",
       "3  https://www.reddit.com/r/UMD/comments/dxu8we/s...   \n",
       "4  https://www.reddit.com/r/UMD/comments/dxttl0/s...   \n",
       "\n",
       "                         title  \\\n",
       "0        Re-Leasing Apartment!   \n",
       "1  Eduroam ACTUALLY sucks dick   \n",
       "2     OG Legends Strikes Again   \n",
       "3   Sustainable turtle sticker   \n",
       "4  Spring/Summer 2020 Sublease   \n",
       "\n",
       "                                            selftext  score   created_utc  \\\n",
       "0   Re-Leasing my room in Commons 6. Amazing room...      1  1.574036e+09   \n",
       "1  Fuck the division of IT for allowing this bull...      1  1.574035e+09   \n",
       "2                                                         4  1.574035e+09   \n",
       "3  Anyone know where I can get one of those susta...      1  1.574032e+09   \n",
       "4  I am studying abroad next semester and am look...      1  1.574030e+09   \n",
       "\n",
       "                                           permalink link_flair_text  \\\n",
       "0        /r/UMD/comments/dxv1c4/releasing_apartment/         Housing   \n",
       "1  /r/UMD/comments/dxuxzp/eduroam_actually_sucks_...            None   \n",
       "2   /r/UMD/comments/dxuwpy/og_legends_strikes_again/      Discussion   \n",
       "3  /r/UMD/comments/dxu8we/sustainable_turtle_stic...            None   \n",
       "4  /r/UMD/comments/dxttl0/springsummer_2020_suble...         Housing   \n",
       "\n",
       "                                                 doc  \n",
       "0  re leas apartre leas room common amaz roommat ...  \n",
       "1  eduroam actual suck dickfuck divis it allow bu...  \n",
       "2                             og legend strike again  \n",
       "3  sustain turtl stickeranyon know i get one sust...  \n",
       "4  spring summer subleasi studi abroad next semes...  "
      ]
     },
     "execution_count": 5,
     "metadata": {},
     "output_type": "execute_result"
    }
   ],
   "source": [
    "#clean the title and text by applying the clean function as stated above\n",
    "title_clean = df_post['title'].apply(clean)\n",
    "text_clean = df_post['selftext'].apply(clean)\n",
    "\n",
    "#concatenates the cleaned title and text to create a column with all words per post\n",
    "df_post['doc'] = title_clean.map(str) + text_clean\n",
    "\n",
    "df_post.head()"
   ]
  },
  {
   "cell_type": "markdown",
   "metadata": {},
   "source": [
    "In order to create a TF-IDF matrix, we will use Scikit-Learn's TfidfVectorizer package.\n",
    "Since we have already cleaned our data, all we have to do is create a new TfidfVectorizer, convert the post texts to a list and fit the vectorizer, and construct a new dataframe from the result."
   ]
  },
  {
   "cell_type": "code",
   "execution_count": 6,
   "metadata": {
    "scrolled": true
   },
   "outputs": [
    {
     "data": {
      "text/html": [
       "<div>\n",
       "<style scoped>\n",
       "    .dataframe tbody tr th:only-of-type {\n",
       "        vertical-align: middle;\n",
       "    }\n",
       "\n",
       "    .dataframe tbody tr th {\n",
       "        vertical-align: top;\n",
       "    }\n",
       "\n",
       "    .dataframe thead th {\n",
       "        text-align: right;\n",
       "    }\n",
       "</style>\n",
       "<table border=\"1\" class=\"dataframe\">\n",
       "  <thead>\n",
       "    <tr style=\"text-align: right;\">\n",
       "      <th></th>\n",
       "      <th>Re-Leasing Apartment!</th>\n",
       "      <th>Eduroam ACTUALLY sucks dick</th>\n",
       "      <th>OG Legends Strikes Again</th>\n",
       "      <th>Sustainable turtle sticker</th>\n",
       "      <th>Spring/Summer 2020 Sublease</th>\n",
       "      <th>Umd italian club?</th>\n",
       "      <th>Tool Concert 11/25</th>\n",
       "      <th>COMM PR or Public Health FS?</th>\n",
       "      <th>Open mic at Milkboy!</th>\n",
       "      <th>Orgo 1: Stocker or Dixon?</th>\n",
       "      <th>...</th>\n",
       "      <th>Thoughts on the closing of Campus Drive?</th>\n",
       "      <th>Since there seems to be a few terp redditors, would you all want to have a meet up in the fall?</th>\n",
       "      <th>What groups/clubs do you belong to?</th>\n",
       "      <th>What is you major and year?</th>\n",
       "      <th>Easy Electives?</th>\n",
       "      <th>All of you people that are ahead of me on the wait list, I'm going to need you to go ahead and back out so I can get in my class - Thanks</th>\n",
       "      <th>Welcome to the UMD subreddit!</th>\n",
       "      <th>Poop? In my McKeldin?</th>\n",
       "      <th>Poop? In my McKeldin?</th>\n",
       "      <th>The Camera that Sees Sound!</th>\n",
       "    </tr>\n",
       "  </thead>\n",
       "  <tbody>\n",
       "    <tr>\n",
       "      <th>aa</th>\n",
       "      <td>0.0</td>\n",
       "      <td>0.0</td>\n",
       "      <td>0.0</td>\n",
       "      <td>0.0</td>\n",
       "      <td>0.0</td>\n",
       "      <td>0.0</td>\n",
       "      <td>0.0</td>\n",
       "      <td>0.0</td>\n",
       "      <td>0.0</td>\n",
       "      <td>0.0</td>\n",
       "      <td>...</td>\n",
       "      <td>0.0</td>\n",
       "      <td>0.0</td>\n",
       "      <td>0.0</td>\n",
       "      <td>0.0</td>\n",
       "      <td>0.0</td>\n",
       "      <td>0.0</td>\n",
       "      <td>0.0</td>\n",
       "      <td>0.0</td>\n",
       "      <td>0.0</td>\n",
       "      <td>0.0</td>\n",
       "    </tr>\n",
       "    <tr>\n",
       "      <th>aaa</th>\n",
       "      <td>0.0</td>\n",
       "      <td>0.0</td>\n",
       "      <td>0.0</td>\n",
       "      <td>0.0</td>\n",
       "      <td>0.0</td>\n",
       "      <td>0.0</td>\n",
       "      <td>0.0</td>\n",
       "      <td>0.0</td>\n",
       "      <td>0.0</td>\n",
       "      <td>0.0</td>\n",
       "      <td>...</td>\n",
       "      <td>0.0</td>\n",
       "      <td>0.0</td>\n",
       "      <td>0.0</td>\n",
       "      <td>0.0</td>\n",
       "      <td>0.0</td>\n",
       "      <td>0.0</td>\n",
       "      <td>0.0</td>\n",
       "      <td>0.0</td>\n",
       "      <td>0.0</td>\n",
       "      <td>0.0</td>\n",
       "    </tr>\n",
       "    <tr>\n",
       "      <th>aaaaaaaaa</th>\n",
       "      <td>0.0</td>\n",
       "      <td>0.0</td>\n",
       "      <td>0.0</td>\n",
       "      <td>0.0</td>\n",
       "      <td>0.0</td>\n",
       "      <td>0.0</td>\n",
       "      <td>0.0</td>\n",
       "      <td>0.0</td>\n",
       "      <td>0.0</td>\n",
       "      <td>0.0</td>\n",
       "      <td>...</td>\n",
       "      <td>0.0</td>\n",
       "      <td>0.0</td>\n",
       "      <td>0.0</td>\n",
       "      <td>0.0</td>\n",
       "      <td>0.0</td>\n",
       "      <td>0.0</td>\n",
       "      <td>0.0</td>\n",
       "      <td>0.0</td>\n",
       "      <td>0.0</td>\n",
       "      <td>0.0</td>\n",
       "    </tr>\n",
       "    <tr>\n",
       "      <th>aaaaaaaaaaaa</th>\n",
       "      <td>0.0</td>\n",
       "      <td>0.0</td>\n",
       "      <td>0.0</td>\n",
       "      <td>0.0</td>\n",
       "      <td>0.0</td>\n",
       "      <td>0.0</td>\n",
       "      <td>0.0</td>\n",
       "      <td>0.0</td>\n",
       "      <td>0.0</td>\n",
       "      <td>0.0</td>\n",
       "      <td>...</td>\n",
       "      <td>0.0</td>\n",
       "      <td>0.0</td>\n",
       "      <td>0.0</td>\n",
       "      <td>0.0</td>\n",
       "      <td>0.0</td>\n",
       "      <td>0.0</td>\n",
       "      <td>0.0</td>\n",
       "      <td>0.0</td>\n",
       "      <td>0.0</td>\n",
       "      <td>0.0</td>\n",
       "    </tr>\n",
       "    <tr>\n",
       "      <th>aaaaaaaaaaaaaaaaaaaaaaaaaaaaaaaaaaaaaaaaaaaaaaaaaaaaaaaaaaaaaaaaaaaaaaaaaaaaaaaaaaaaaaaaaaaaaaaaaaaaaaaa</th>\n",
       "      <td>0.0</td>\n",
       "      <td>0.0</td>\n",
       "      <td>0.0</td>\n",
       "      <td>0.0</td>\n",
       "      <td>0.0</td>\n",
       "      <td>0.0</td>\n",
       "      <td>0.0</td>\n",
       "      <td>0.0</td>\n",
       "      <td>0.0</td>\n",
       "      <td>0.0</td>\n",
       "      <td>...</td>\n",
       "      <td>0.0</td>\n",
       "      <td>0.0</td>\n",
       "      <td>0.0</td>\n",
       "      <td>0.0</td>\n",
       "      <td>0.0</td>\n",
       "      <td>0.0</td>\n",
       "      <td>0.0</td>\n",
       "      <td>0.0</td>\n",
       "      <td>0.0</td>\n",
       "      <td>0.0</td>\n",
       "    </tr>\n",
       "    <tr>\n",
       "      <th>...</th>\n",
       "      <td>...</td>\n",
       "      <td>...</td>\n",
       "      <td>...</td>\n",
       "      <td>...</td>\n",
       "      <td>...</td>\n",
       "      <td>...</td>\n",
       "      <td>...</td>\n",
       "      <td>...</td>\n",
       "      <td>...</td>\n",
       "      <td>...</td>\n",
       "      <td>...</td>\n",
       "      <td>...</td>\n",
       "      <td>...</td>\n",
       "      <td>...</td>\n",
       "      <td>...</td>\n",
       "      <td>...</td>\n",
       "      <td>...</td>\n",
       "      <td>...</td>\n",
       "      <td>...</td>\n",
       "      <td>...</td>\n",
       "      <td>...</td>\n",
       "    </tr>\n",
       "    <tr>\n",
       "      <th>zze</th>\n",
       "      <td>0.0</td>\n",
       "      <td>0.0</td>\n",
       "      <td>0.0</td>\n",
       "      <td>0.0</td>\n",
       "      <td>0.0</td>\n",
       "      <td>0.0</td>\n",
       "      <td>0.0</td>\n",
       "      <td>0.0</td>\n",
       "      <td>0.0</td>\n",
       "      <td>0.0</td>\n",
       "      <td>...</td>\n",
       "      <td>0.0</td>\n",
       "      <td>0.0</td>\n",
       "      <td>0.0</td>\n",
       "      <td>0.0</td>\n",
       "      <td>0.0</td>\n",
       "      <td>0.0</td>\n",
       "      <td>0.0</td>\n",
       "      <td>0.0</td>\n",
       "      <td>0.0</td>\n",
       "      <td>0.0</td>\n",
       "    </tr>\n",
       "    <tr>\n",
       "      <th>zzfrahjlgz</th>\n",
       "      <td>0.0</td>\n",
       "      <td>0.0</td>\n",
       "      <td>0.0</td>\n",
       "      <td>0.0</td>\n",
       "      <td>0.0</td>\n",
       "      <td>0.0</td>\n",
       "      <td>0.0</td>\n",
       "      <td>0.0</td>\n",
       "      <td>0.0</td>\n",
       "      <td>0.0</td>\n",
       "      <td>...</td>\n",
       "      <td>0.0</td>\n",
       "      <td>0.0</td>\n",
       "      <td>0.0</td>\n",
       "      <td>0.0</td>\n",
       "      <td>0.0</td>\n",
       "      <td>0.0</td>\n",
       "      <td>0.0</td>\n",
       "      <td>0.0</td>\n",
       "      <td>0.0</td>\n",
       "      <td>0.0</td>\n",
       "    </tr>\n",
       "    <tr>\n",
       "      <th>zzzsleepytim</th>\n",
       "      <td>0.0</td>\n",
       "      <td>0.0</td>\n",
       "      <td>0.0</td>\n",
       "      <td>0.0</td>\n",
       "      <td>0.0</td>\n",
       "      <td>0.0</td>\n",
       "      <td>0.0</td>\n",
       "      <td>0.0</td>\n",
       "      <td>0.0</td>\n",
       "      <td>0.0</td>\n",
       "      <td>...</td>\n",
       "      <td>0.0</td>\n",
       "      <td>0.0</td>\n",
       "      <td>0.0</td>\n",
       "      <td>0.0</td>\n",
       "      <td>0.0</td>\n",
       "      <td>0.0</td>\n",
       "      <td>0.0</td>\n",
       "      <td>0.0</td>\n",
       "      <td>0.0</td>\n",
       "      <td>0.0</td>\n",
       "    </tr>\n",
       "    <tr>\n",
       "      <th>zzzz</th>\n",
       "      <td>0.0</td>\n",
       "      <td>0.0</td>\n",
       "      <td>0.0</td>\n",
       "      <td>0.0</td>\n",
       "      <td>0.0</td>\n",
       "      <td>0.0</td>\n",
       "      <td>0.0</td>\n",
       "      <td>0.0</td>\n",
       "      <td>0.0</td>\n",
       "      <td>0.0</td>\n",
       "      <td>...</td>\n",
       "      <td>0.0</td>\n",
       "      <td>0.0</td>\n",
       "      <td>0.0</td>\n",
       "      <td>0.0</td>\n",
       "      <td>0.0</td>\n",
       "      <td>0.0</td>\n",
       "      <td>0.0</td>\n",
       "      <td>0.0</td>\n",
       "      <td>0.0</td>\n",
       "      <td>0.0</td>\n",
       "    </tr>\n",
       "    <tr>\n",
       "      <th>zzzzzzzz</th>\n",
       "      <td>0.0</td>\n",
       "      <td>0.0</td>\n",
       "      <td>0.0</td>\n",
       "      <td>0.0</td>\n",
       "      <td>0.0</td>\n",
       "      <td>0.0</td>\n",
       "      <td>0.0</td>\n",
       "      <td>0.0</td>\n",
       "      <td>0.0</td>\n",
       "      <td>0.0</td>\n",
       "      <td>...</td>\n",
       "      <td>0.0</td>\n",
       "      <td>0.0</td>\n",
       "      <td>0.0</td>\n",
       "      <td>0.0</td>\n",
       "      <td>0.0</td>\n",
       "      <td>0.0</td>\n",
       "      <td>0.0</td>\n",
       "      <td>0.0</td>\n",
       "      <td>0.0</td>\n",
       "      <td>0.0</td>\n",
       "    </tr>\n",
       "  </tbody>\n",
       "</table>\n",
       "<p>39030 rows × 42585 columns</p>\n",
       "</div>"
      ],
      "text/plain": [
       "                                                    Re-Leasing Apartment!  \\\n",
       "aa                                                                    0.0   \n",
       "aaa                                                                   0.0   \n",
       "aaaaaaaaa                                                             0.0   \n",
       "aaaaaaaaaaaa                                                          0.0   \n",
       "aaaaaaaaaaaaaaaaaaaaaaaaaaaaaaaaaaaaaaaaaaaaaaa...                    0.0   \n",
       "...                                                                   ...   \n",
       "zze                                                                   0.0   \n",
       "zzfrahjlgz                                                            0.0   \n",
       "zzzsleepytim                                                          0.0   \n",
       "zzzz                                                                  0.0   \n",
       "zzzzzzzz                                                              0.0   \n",
       "\n",
       "                                                    Eduroam ACTUALLY sucks dick  \\\n",
       "aa                                                                          0.0   \n",
       "aaa                                                                         0.0   \n",
       "aaaaaaaaa                                                                   0.0   \n",
       "aaaaaaaaaaaa                                                                0.0   \n",
       "aaaaaaaaaaaaaaaaaaaaaaaaaaaaaaaaaaaaaaaaaaaaaaa...                          0.0   \n",
       "...                                                                         ...   \n",
       "zze                                                                         0.0   \n",
       "zzfrahjlgz                                                                  0.0   \n",
       "zzzsleepytim                                                                0.0   \n",
       "zzzz                                                                        0.0   \n",
       "zzzzzzzz                                                                    0.0   \n",
       "\n",
       "                                                    OG Legends Strikes Again  \\\n",
       "aa                                                                       0.0   \n",
       "aaa                                                                      0.0   \n",
       "aaaaaaaaa                                                                0.0   \n",
       "aaaaaaaaaaaa                                                             0.0   \n",
       "aaaaaaaaaaaaaaaaaaaaaaaaaaaaaaaaaaaaaaaaaaaaaaa...                       0.0   \n",
       "...                                                                      ...   \n",
       "zze                                                                      0.0   \n",
       "zzfrahjlgz                                                               0.0   \n",
       "zzzsleepytim                                                             0.0   \n",
       "zzzz                                                                     0.0   \n",
       "zzzzzzzz                                                                 0.0   \n",
       "\n",
       "                                                    Sustainable turtle sticker  \\\n",
       "aa                                                                         0.0   \n",
       "aaa                                                                        0.0   \n",
       "aaaaaaaaa                                                                  0.0   \n",
       "aaaaaaaaaaaa                                                               0.0   \n",
       "aaaaaaaaaaaaaaaaaaaaaaaaaaaaaaaaaaaaaaaaaaaaaaa...                         0.0   \n",
       "...                                                                        ...   \n",
       "zze                                                                        0.0   \n",
       "zzfrahjlgz                                                                 0.0   \n",
       "zzzsleepytim                                                               0.0   \n",
       "zzzz                                                                       0.0   \n",
       "zzzzzzzz                                                                   0.0   \n",
       "\n",
       "                                                    Spring/Summer 2020 Sublease  \\\n",
       "aa                                                                          0.0   \n",
       "aaa                                                                         0.0   \n",
       "aaaaaaaaa                                                                   0.0   \n",
       "aaaaaaaaaaaa                                                                0.0   \n",
       "aaaaaaaaaaaaaaaaaaaaaaaaaaaaaaaaaaaaaaaaaaaaaaa...                          0.0   \n",
       "...                                                                         ...   \n",
       "zze                                                                         0.0   \n",
       "zzfrahjlgz                                                                  0.0   \n",
       "zzzsleepytim                                                                0.0   \n",
       "zzzz                                                                        0.0   \n",
       "zzzzzzzz                                                                    0.0   \n",
       "\n",
       "                                                    Umd italian club?  \\\n",
       "aa                                                                0.0   \n",
       "aaa                                                               0.0   \n",
       "aaaaaaaaa                                                         0.0   \n",
       "aaaaaaaaaaaa                                                      0.0   \n",
       "aaaaaaaaaaaaaaaaaaaaaaaaaaaaaaaaaaaaaaaaaaaaaaa...                0.0   \n",
       "...                                                               ...   \n",
       "zze                                                               0.0   \n",
       "zzfrahjlgz                                                        0.0   \n",
       "zzzsleepytim                                                      0.0   \n",
       "zzzz                                                              0.0   \n",
       "zzzzzzzz                                                          0.0   \n",
       "\n",
       "                                                    Tool Concert 11/25  \\\n",
       "aa                                                                 0.0   \n",
       "aaa                                                                0.0   \n",
       "aaaaaaaaa                                                          0.0   \n",
       "aaaaaaaaaaaa                                                       0.0   \n",
       "aaaaaaaaaaaaaaaaaaaaaaaaaaaaaaaaaaaaaaaaaaaaaaa...                 0.0   \n",
       "...                                                                ...   \n",
       "zze                                                                0.0   \n",
       "zzfrahjlgz                                                         0.0   \n",
       "zzzsleepytim                                                       0.0   \n",
       "zzzz                                                               0.0   \n",
       "zzzzzzzz                                                           0.0   \n",
       "\n",
       "                                                    COMM PR or Public Health FS?  \\\n",
       "aa                                                                           0.0   \n",
       "aaa                                                                          0.0   \n",
       "aaaaaaaaa                                                                    0.0   \n",
       "aaaaaaaaaaaa                                                                 0.0   \n",
       "aaaaaaaaaaaaaaaaaaaaaaaaaaaaaaaaaaaaaaaaaaaaaaa...                           0.0   \n",
       "...                                                                          ...   \n",
       "zze                                                                          0.0   \n",
       "zzfrahjlgz                                                                   0.0   \n",
       "zzzsleepytim                                                                 0.0   \n",
       "zzzz                                                                         0.0   \n",
       "zzzzzzzz                                                                     0.0   \n",
       "\n",
       "                                                    Open mic at Milkboy!  \\\n",
       "aa                                                                   0.0   \n",
       "aaa                                                                  0.0   \n",
       "aaaaaaaaa                                                            0.0   \n",
       "aaaaaaaaaaaa                                                         0.0   \n",
       "aaaaaaaaaaaaaaaaaaaaaaaaaaaaaaaaaaaaaaaaaaaaaaa...                   0.0   \n",
       "...                                                                  ...   \n",
       "zze                                                                  0.0   \n",
       "zzfrahjlgz                                                           0.0   \n",
       "zzzsleepytim                                                         0.0   \n",
       "zzzz                                                                 0.0   \n",
       "zzzzzzzz                                                             0.0   \n",
       "\n",
       "                                                    Orgo 1: Stocker or Dixon?  \\\n",
       "aa                                                                        0.0   \n",
       "aaa                                                                       0.0   \n",
       "aaaaaaaaa                                                                 0.0   \n",
       "aaaaaaaaaaaa                                                              0.0   \n",
       "aaaaaaaaaaaaaaaaaaaaaaaaaaaaaaaaaaaaaaaaaaaaaaa...                        0.0   \n",
       "...                                                                       ...   \n",
       "zze                                                                       0.0   \n",
       "zzfrahjlgz                                                                0.0   \n",
       "zzzsleepytim                                                              0.0   \n",
       "zzzz                                                                      0.0   \n",
       "zzzzzzzz                                                                  0.0   \n",
       "\n",
       "                                                    ...  \\\n",
       "aa                                                  ...   \n",
       "aaa                                                 ...   \n",
       "aaaaaaaaa                                           ...   \n",
       "aaaaaaaaaaaa                                        ...   \n",
       "aaaaaaaaaaaaaaaaaaaaaaaaaaaaaaaaaaaaaaaaaaaaaaa...  ...   \n",
       "...                                                 ...   \n",
       "zze                                                 ...   \n",
       "zzfrahjlgz                                          ...   \n",
       "zzzsleepytim                                        ...   \n",
       "zzzz                                                ...   \n",
       "zzzzzzzz                                            ...   \n",
       "\n",
       "                                                    Thoughts on the closing of Campus Drive?  \\\n",
       "aa                                                                                       0.0   \n",
       "aaa                                                                                      0.0   \n",
       "aaaaaaaaa                                                                                0.0   \n",
       "aaaaaaaaaaaa                                                                             0.0   \n",
       "aaaaaaaaaaaaaaaaaaaaaaaaaaaaaaaaaaaaaaaaaaaaaaa...                                       0.0   \n",
       "...                                                                                      ...   \n",
       "zze                                                                                      0.0   \n",
       "zzfrahjlgz                                                                               0.0   \n",
       "zzzsleepytim                                                                             0.0   \n",
       "zzzz                                                                                     0.0   \n",
       "zzzzzzzz                                                                                 0.0   \n",
       "\n",
       "                                                    Since there seems to be a few terp redditors, would you all want to have a meet up in the fall?  \\\n",
       "aa                                                                                                0.0                                                 \n",
       "aaa                                                                                               0.0                                                 \n",
       "aaaaaaaaa                                                                                         0.0                                                 \n",
       "aaaaaaaaaaaa                                                                                      0.0                                                 \n",
       "aaaaaaaaaaaaaaaaaaaaaaaaaaaaaaaaaaaaaaaaaaaaaaa...                                                0.0                                                 \n",
       "...                                                                                               ...                                                 \n",
       "zze                                                                                               0.0                                                 \n",
       "zzfrahjlgz                                                                                        0.0                                                 \n",
       "zzzsleepytim                                                                                      0.0                                                 \n",
       "zzzz                                                                                              0.0                                                 \n",
       "zzzzzzzz                                                                                          0.0                                                 \n",
       "\n",
       "                                                    What groups/clubs do you belong to?  \\\n",
       "aa                                                                                  0.0   \n",
       "aaa                                                                                 0.0   \n",
       "aaaaaaaaa                                                                           0.0   \n",
       "aaaaaaaaaaaa                                                                        0.0   \n",
       "aaaaaaaaaaaaaaaaaaaaaaaaaaaaaaaaaaaaaaaaaaaaaaa...                                  0.0   \n",
       "...                                                                                 ...   \n",
       "zze                                                                                 0.0   \n",
       "zzfrahjlgz                                                                          0.0   \n",
       "zzzsleepytim                                                                        0.0   \n",
       "zzzz                                                                                0.0   \n",
       "zzzzzzzz                                                                            0.0   \n",
       "\n",
       "                                                    What is you major and year?  \\\n",
       "aa                                                                          0.0   \n",
       "aaa                                                                         0.0   \n",
       "aaaaaaaaa                                                                   0.0   \n",
       "aaaaaaaaaaaa                                                                0.0   \n",
       "aaaaaaaaaaaaaaaaaaaaaaaaaaaaaaaaaaaaaaaaaaaaaaa...                          0.0   \n",
       "...                                                                         ...   \n",
       "zze                                                                         0.0   \n",
       "zzfrahjlgz                                                                  0.0   \n",
       "zzzsleepytim                                                                0.0   \n",
       "zzzz                                                                        0.0   \n",
       "zzzzzzzz                                                                    0.0   \n",
       "\n",
       "                                                    Easy Electives?  \\\n",
       "aa                                                              0.0   \n",
       "aaa                                                             0.0   \n",
       "aaaaaaaaa                                                       0.0   \n",
       "aaaaaaaaaaaa                                                    0.0   \n",
       "aaaaaaaaaaaaaaaaaaaaaaaaaaaaaaaaaaaaaaaaaaaaaaa...              0.0   \n",
       "...                                                             ...   \n",
       "zze                                                             0.0   \n",
       "zzfrahjlgz                                                      0.0   \n",
       "zzzsleepytim                                                    0.0   \n",
       "zzzz                                                            0.0   \n",
       "zzzzzzzz                                                        0.0   \n",
       "\n",
       "                                                    All of you people that are ahead of me on the wait list, I'm going to need you to go ahead and back out so I can get in my class - Thanks  \\\n",
       "aa                                                                                                0.0                                                                                           \n",
       "aaa                                                                                               0.0                                                                                           \n",
       "aaaaaaaaa                                                                                         0.0                                                                                           \n",
       "aaaaaaaaaaaa                                                                                      0.0                                                                                           \n",
       "aaaaaaaaaaaaaaaaaaaaaaaaaaaaaaaaaaaaaaaaaaaaaaa...                                                0.0                                                                                           \n",
       "...                                                                                               ...                                                                                           \n",
       "zze                                                                                               0.0                                                                                           \n",
       "zzfrahjlgz                                                                                        0.0                                                                                           \n",
       "zzzsleepytim                                                                                      0.0                                                                                           \n",
       "zzzz                                                                                              0.0                                                                                           \n",
       "zzzzzzzz                                                                                          0.0                                                                                           \n",
       "\n",
       "                                                    Welcome to the UMD subreddit!  \\\n",
       "aa                                                                            0.0   \n",
       "aaa                                                                           0.0   \n",
       "aaaaaaaaa                                                                     0.0   \n",
       "aaaaaaaaaaaa                                                                  0.0   \n",
       "aaaaaaaaaaaaaaaaaaaaaaaaaaaaaaaaaaaaaaaaaaaaaaa...                            0.0   \n",
       "...                                                                           ...   \n",
       "zze                                                                           0.0   \n",
       "zzfrahjlgz                                                                    0.0   \n",
       "zzzsleepytim                                                                  0.0   \n",
       "zzzz                                                                          0.0   \n",
       "zzzzzzzz                                                                      0.0   \n",
       "\n",
       "                                                    Poop? In my McKeldin?  \\\n",
       "aa                                                                    0.0   \n",
       "aaa                                                                   0.0   \n",
       "aaaaaaaaa                                                             0.0   \n",
       "aaaaaaaaaaaa                                                          0.0   \n",
       "aaaaaaaaaaaaaaaaaaaaaaaaaaaaaaaaaaaaaaaaaaaaaaa...                    0.0   \n",
       "...                                                                   ...   \n",
       "zze                                                                   0.0   \n",
       "zzfrahjlgz                                                            0.0   \n",
       "zzzsleepytim                                                          0.0   \n",
       "zzzz                                                                  0.0   \n",
       "zzzzzzzz                                                              0.0   \n",
       "\n",
       "                                                    Poop? In my McKeldin?  \\\n",
       "aa                                                                    0.0   \n",
       "aaa                                                                   0.0   \n",
       "aaaaaaaaa                                                             0.0   \n",
       "aaaaaaaaaaaa                                                          0.0   \n",
       "aaaaaaaaaaaaaaaaaaaaaaaaaaaaaaaaaaaaaaaaaaaaaaa...                    0.0   \n",
       "...                                                                   ...   \n",
       "zze                                                                   0.0   \n",
       "zzfrahjlgz                                                            0.0   \n",
       "zzzsleepytim                                                          0.0   \n",
       "zzzz                                                                  0.0   \n",
       "zzzzzzzz                                                              0.0   \n",
       "\n",
       "                                                    The Camera that Sees Sound!  \n",
       "aa                                                                          0.0  \n",
       "aaa                                                                         0.0  \n",
       "aaaaaaaaa                                                                   0.0  \n",
       "aaaaaaaaaaaa                                                                0.0  \n",
       "aaaaaaaaaaaaaaaaaaaaaaaaaaaaaaaaaaaaaaaaaaaaaaa...                          0.0  \n",
       "...                                                                         ...  \n",
       "zze                                                                         0.0  \n",
       "zzfrahjlgz                                                                  0.0  \n",
       "zzzsleepytim                                                                0.0  \n",
       "zzzz                                                                        0.0  \n",
       "zzzzzzzz                                                                    0.0  \n",
       "\n",
       "[39030 rows x 42585 columns]"
      ]
     },
     "execution_count": 6,
     "metadata": {},
     "output_type": "execute_result"
    }
   ],
   "source": [
    "titles = df_post['title'].tolist()\n",
    "corpus = df_post['doc'].tolist()\n",
    "\n",
    "vectorizer = TfidfVectorizer(stop_words='english')\n",
    "X = vectorizer.fit_transform(corpus)\n",
    "df_post_tfidf = pd.DataFrame(X.T.todense(), index=vectorizer.get_feature_names(), columns = titles)\n",
    "df_post_tfidf"
   ]
  },
  {
   "cell_type": "markdown",
   "metadata": {},
   "source": [
    "Now that we have a TF-IDF matrix, we can use Scikit-Learn's KMeans function to split the data up into clusters based on similarities in text from the TF-IDF matrix.\n",
    "\n",
    "Unfortunately, KMeans is a non-deterministic algorithm, meaning that it will give a different result if run multiple times. This can lead to some interesting results, as the clusters change when the algorithm is run. This can be alleviated by providing an integer for a random seed, which will cause the KMeans to give the same result every time.\n",
    "\n",
    "Here we are specifying k = 13 to categorize the data into 13 clusters. We need to manually inspect each cluster to see what the posts in each cluster have in common, and we can give names to our clusters."
   ]
  },
  {
   "cell_type": "code",
   "execution_count": 7,
   "metadata": {},
   "outputs": [
    {
     "name": "stdout",
     "output_type": "stream",
     "text": [
      "RANDOM STATE 971\n",
      "Top terms per cluster:\n",
      "Cluster 0:\n",
      " major\n",
      " cs\n",
      " scienc\n",
      " comput\n",
      " engin\n",
      " doubl\n",
      " minor\n",
      " program\n",
      " school\n",
      " career\n",
      "Cluster 1:\n",
      " transfer\n",
      " umd\n",
      " student\n",
      " school\n",
      " credit\n",
      " gpa\n",
      " appli\n",
      " fall\n",
      " colleg\n",
      " semest\n",
      "Cluster 2:\n",
      " math\n",
      " class\n",
      " calc\n",
      " exam\n",
      " major\n",
      " stat\n",
      " semest\n",
      " cours\n",
      " placement\n",
      " anyon\n",
      "Cluster 3:\n",
      " ticket\n",
      " game\n",
      " student\n",
      " michigan\n",
      " basketbal\n",
      " anyon\n",
      " sell\n",
      " extra\n",
      " guest\n",
      " state\n",
      "Cluster 4:\n",
      " maryland\n",
      " like\n",
      " terp\n",
      " student\n",
      " look\n",
      " time\n",
      " need\n",
      " help\n",
      " peopl\n",
      " final\n",
      "Cluster 5:\n",
      " park\n",
      " colleg\n",
      " lot\n",
      " permit\n",
      " free\n",
      " car\n",
      " campu\n",
      " dot\n",
      " overnight\n",
      " summer\n",
      "Cluster 6:\n",
      " room\n",
      " hous\n",
      " look\n",
      " apart\n",
      " common\n",
      " live\n",
      " roommat\n",
      " leas\n",
      " rent\n",
      " sublet\n",
      "Cluster 7:\n",
      " cmsc\n",
      " class\n",
      " semest\n",
      " anyon\n",
      " summer\n",
      " math\n",
      " exam\n",
      " taken\n",
      " cs\n",
      " cours\n",
      "Cluster 8:\n",
      " campu\n",
      " place\n",
      " south\n",
      " live\n",
      " job\n",
      " know\n",
      " hous\n",
      " look\n",
      " best\n",
      " anyon\n",
      "Cluster 9:\n",
      " umd\n",
      " student\n",
      " edu\n",
      " http\n",
      " school\n",
      " connect\n",
      " like\n",
      " know\n",
      " email\n",
      " use\n",
      "Cluster 10:\n",
      " talk\n",
      " week\n",
      " happen\n",
      " promot\n",
      " jpg\n",
      " sport\n",
      " upcom\n",
      " com\n",
      " http\n",
      " event\n",
      "Cluster 11:\n",
      " cours\n",
      " credit\n",
      " class\n",
      " semest\n",
      " onlin\n",
      " taken\n",
      " anyon\n",
      " summer\n",
      " level\n",
      " grade\n",
      "Cluster 12:\n",
      " easi\n",
      " class\n",
      " credit\n",
      " gen\n",
      " ene\n",
      " cours\n",
      " need\n",
      " ed\n",
      " onlin\n",
      " level\n",
      "Cluster 13:\n",
      " class\n",
      " semest\n",
      " waitlist\n",
      " credit\n",
      " drop\n",
      " taken\n",
      " like\n",
      " anyon\n",
      " professor\n",
      " grade\n",
      "Cluster 14:\n",
      " anyon\n",
      " know\n",
      " doe\n",
      " want\n",
      " els\n",
      " like\n",
      " thank\n",
      " ha\n",
      " look\n",
      " taken\n"
     ]
    }
   ],
   "source": [
    "#using KMeans, cluster the data into a set number of categories\n",
    "true_k = 15\n",
    "r = 971 #KMeans is non-deterministic unless we specify the random seed\n",
    "model = KMeans(n_clusters=true_k, init='k-means++', max_iter=100, n_init=1, random_state = r)\n",
    "print(\"RANDOM STATE\",model.random_state)\n",
    "\n",
    "#fit the model\n",
    "model.fit(X)\n",
    "print(\"Top terms per cluster:\")\n",
    "order_centroids = model.cluster_centers_.argsort()[:, ::-1]\n",
    "terms = vectorizer.get_feature_names()\n",
    "for i in range(true_k):\n",
    "    print(\"Cluster %d:\" % i),\n",
    "    for ind in order_centroids[i, :10]:\n",
    "        print(' %s' % terms[ind]),"
   ]
  },
  {
   "cell_type": "markdown",
   "metadata": {},
   "source": [
    "After looking at the clusters, I have decided on some appropirate titles for each group"
   ]
  },
  {
   "cell_type": "code",
   "execution_count": 8,
   "metadata": {},
   "outputs": [],
   "source": [
    "subjects = {0 : 'major requirements', 1 : 'admissions / trasfer', 2 : 'math', 3 : 'sports', 4 : 'general umd',\n",
    "            5 : 'parking', 6 : 'housing', 7 : 'cs classes', 8 : 'housing', 9 : 'events / internet', 10 : 'weekly posts',\n",
    "            11 : 'registration', 12 : 'course / campus questions'}"
   ]
  },
  {
   "cell_type": "code",
   "execution_count": 9,
   "metadata": {},
   "outputs": [],
   "source": [
    "header_str = '~~~~~~~~~~~~~~~'"
   ]
  },
  {
   "cell_type": "markdown",
   "metadata": {},
   "source": [
    "Now our KMeans model is trained! we can test it out by taking a random sample of the data and predicting each post's category by using the model's predict() function. I have printed this output below so you can see how accurate the groupings are."
   ]
  },
  {
   "cell_type": "code",
   "execution_count": 10,
   "metadata": {
    "scrolled": true
   },
   "outputs": [
    {
     "name": "stdout",
     "output_type": "stream",
     "text": [
      "\n",
      "~~~~~~~~~~~~~~~ major requirements ~~~~~~~~~~~~~~~\n",
      "Class Comparison\n",
      "My biggest regret since coming here is not having a better idea of what I wanted to study, and what I wanted to do after graduation.\n",
      "In light of peoples recent complaints about the difficulty of their majors\n",
      "\n",
      "~~~~~~~~~~~~~~~ admissions / trasfer ~~~~~~~~~~~~~~~\n",
      "Has anyone taken upper level computer science courses and transferred them in?\n",
      "\n",
      "~~~~~~~~~~~~~~~ math ~~~~~~~~~~~~~~~\n",
      "Will I get be guaranteed to get into major coruses\n",
      "MATH241 Professor\n",
      "Could I take math 120 at a different institution or do I have to take it here?\n",
      "\n",
      "~~~~~~~~~~~~~~~ sports ~~~~~~~~~~~~~~~\n",
      "Anyone got an extra football ticket for the Howard game? 🙏\n",
      "If I am not a student can I use a student ticket at the basketball game?\n",
      "\n",
      "~~~~~~~~~~~~~~~ general umd ~~~~~~~~~~~~~~~\n",
      "What's the fastest way I can get a pdf version of my unofficial transcript?\n",
      "Discussion for STAT400?\n",
      "What to expect in the summer?\n",
      "Slipped under my door in my dorm. Fuck off.\n",
      "AV Williams Coffee Appreciation Post\n",
      "QUEST AMA\n",
      "Did the professors for gen chem 2 lecture this fall just spontaneously change??\n",
      "Chem 131\n",
      "Man did the Capitals play a great game tonight. Who wants to watch with me in the future?\n",
      "Update to yesterday's post asking someone to teach me stick\n",
      "Any bioengineering graduates out there? I need advice.\n",
      "UMDtv Club?!? (For fellow video making terps)\n",
      "i was wondering if it's possible to join a fraternity and a club?\n",
      "umd dining\n",
      "Fake id\n",
      "Where to get a watch readjusted?\n",
      "BSCI135 has only 56 seats available but being taught in lecture hall. Will more seats open up?\n",
      "Biking by Lake Artemesia\n",
      "Nerd ballers\n",
      "During my time at the University of Maryland from 2006-2012, I've taken a lot of photos and videos as the Unofficial Student Photographer.\n",
      "PSA: You can buy gallons of ice cream from stamp with Dining Dollars for $19/gallon\n",
      "Bmgt289A\n",
      "Missing package from Amazon, who to contact?\n",
      "College happening all wrong\n",
      "15% off Bagels and Grinds\n",
      "63 word article for today's game\n",
      "Newly renovated Town Hall which is under new ownership opened yesterday (not my picture)\n",
      "When is the deadline to apply for summer classes?\n",
      "Solutions to Matlab and Materials?\n",
      "Erasable Inc. Improv Auditions This Week!\n",
      "What is Calvert Hall like? Suite of 8?\n",
      "There’s literally a hole in the wall at the chemistry building, 3rd floor. I wonder what the orange stuff tastes like\n",
      "Daddy Nelson, there's a sorting algorithm you forgot to mention and it's the most efficient of them all\n",
      "Found a Black Lab! Is he yours? In Berwyn Heights.\n",
      "rip\n",
      "If anyone is still looking for a room....\n",
      "Lombardi versus O’Brien BSCI202 Spring ‘20\n",
      "Need Academic Dress for Graduation\n",
      "What is the minimum GPA to rush as a Sophomore next fall??\n",
      "\"Knox Box tenants likely to be displaced in coming months\". Fucking outrageous\n",
      "Group chat for terp commuters to make new friends\n",
      "Nelson keeps this on his website. Whoever made this, you're amazing.\n",
      "Careers4terps looping password reset link.\n",
      "\n",
      "~~~~~~~~~~~~~~~ parking ~~~~~~~~~~~~~~~\n",
      "Parking bundle packs\n",
      "Anybody know what happens when you don't pay a parking ticket?\n",
      "GTA: College Park\n",
      "\n",
      "~~~~~~~~~~~~~~~ housing ~~~~~~~~~~~~~~~\n",
      "View and Varsity 4x4\n",
      "Leasing an apartment for a half year?\n",
      "Anyone have an off-campus room available for 2012-2013?\n",
      "Can anyone let me know their experience living in CP Towers (Knox Building)\n",
      "ROOM AVAILABLE FOR SUMMER 2016 AT COMMONS 3!\n",
      "Looking to pull 2 roommates into New Leonardtown apartment for 2014-2015\n",
      "\n",
      "~~~~~~~~~~~~~~~ cs classes ~~~~~~~~~~~~~~~\n",
      "CMSC434 waitlist\n",
      "cmsc 298A\n",
      "CMSC132 Exemption Exam\n",
      "\n",
      "~~~~~~~~~~~~~~~ housing ~~~~~~~~~~~~~~~\n",
      "what all to do for FUn @UMD ?\n",
      "Campus recruiters information\n",
      "\n",
      "~~~~~~~~~~~~~~~ events / internet ~~~~~~~~~~~~~~~\n",
      "UMD Apartments\n",
      "Have you ever noticed the UMD crime reports we get never tell you if the perpetrator is Jewish?\n",
      "Will I get in?\n",
      "UMD-led Team Advances in SpaceX Hyperloop Pod Competition\n",
      "Do you regret choosing and attending UMD? Why or why not?\n",
      "Winter Tuition\n",
      "Why can’t UMD’s CAS remember me as logged in?\n",
      "Help improve food safety using bacteriophages - research at UMD\n",
      "\n",
      "~~~~~~~~~~~~~~~ weekly posts ~~~~~~~~~~~~~~~\n",
      "UMD This Weekend - October 08, 2016\n",
      "\n",
      "~~~~~~~~~~~~~~~ registration ~~~~~~~~~~~~~~~\n",
      "Easy 1 credit course that isn't a lab?\n",
      "Quick question about holdfiles\n",
      "Easy 2 or 3 credit courses in the spring?\n",
      "Anybody taking or has taken Hist289A?\n",
      "\n",
      "~~~~~~~~~~~~~~~ course / campus questions ~~~~~~~~~~~~~~~\n",
      "Buying used graduation regalia?\n",
      "How is AREC365?\n",
      "Where did the books tab go? Or does anyone where I can find the book list?\n",
      "Hey Everyone (especially CMPS majors), I am going to be an Orientation Adviser this summer and I want to know what you think! \n",
      "ENGL390 Katharine ONeill\n",
      "Will Schedule Adjustment be extended bc of cancellations??\n",
      "Issues with classes being filled for Drop/Add but have many open seats on Testudo Schedule of classes?\n",
      "UL comp sci courses\n",
      "I think my bike got stolen?\n",
      "Floor size in Dorchester hall?\n",
      "Lot 1 or SDG if my class is in iribe?\n",
      "Online class not showing up in ELMS?\n",
      "Is anyone going to HACKUMBC next weekend?\n",
      "What’s the cheapest way to get to UMBC?\n",
      "retaking ENEE222 Signals with Papamarcou, any help / suggestions\n",
      "Pets on campus?\n",
      "Online bulletin board?\n",
      "Found credit card on stadium drive sidewalk\n",
      "ENAE 362\n",
      "CMSC250\n",
      "Has is anyone worked (or is currenty working) at Good Tidings Catering as a part-time job? What's it like?\n"
     ]
    }
   ],
   "source": [
    "def classify(post) :\n",
    "    Y = vectorizer.transform([post])\n",
    "    prediction = model.predict(Y)[0]\n",
    "    if prediction == 12 :\n",
    "        prediction = 11\n",
    "    if prediction > 12 :\n",
    "        prediction = 12\n",
    "    return prediction\n",
    "\n",
    "#create random sample of dataframe\n",
    "sample = df_post.sample(n=100)\n",
    "#sample = df\n",
    "pred = []\n",
    "#add column for the prediction to the dataframe\n",
    "for row in sample.iterrows() : \n",
    "    pred.append(classify(row[1]['doc']))\n",
    "sample['pred'] = pred\n",
    "#display sample posts by subject\n",
    "for i in range(0,13) :\n",
    "        print()\n",
    "        print(header_str,subjects[i],header_str)\n",
    "        sub = sample[sample['pred'] == i]\n",
    "        for row in sub.iterrows() :\n",
    "            print(row[1]['title'])"
   ]
  },
  {
   "cell_type": "markdown",
   "metadata": {},
   "source": [
    "Since we can see that the categorization is accurate, we can go ahead and append a new column to our df_post with their classification, and we are done with classifying the posts of r/UMD!"
   ]
  },
  {
   "cell_type": "code",
   "execution_count": 11,
   "metadata": {},
   "outputs": [
    {
     "data": {
      "text/html": [
       "<div>\n",
       "<style scoped>\n",
       "    .dataframe tbody tr th:only-of-type {\n",
       "        vertical-align: middle;\n",
       "    }\n",
       "\n",
       "    .dataframe tbody tr th {\n",
       "        vertical-align: top;\n",
       "    }\n",
       "\n",
       "    .dataframe thead th {\n",
       "        text-align: right;\n",
       "    }\n",
       "</style>\n",
       "<table border=\"1\" class=\"dataframe\">\n",
       "  <thead>\n",
       "    <tr style=\"text-align: right;\">\n",
       "      <th></th>\n",
       "      <th>id</th>\n",
       "      <th>name</th>\n",
       "      <th>url</th>\n",
       "      <th>title</th>\n",
       "      <th>selftext</th>\n",
       "      <th>score</th>\n",
       "      <th>created_utc</th>\n",
       "      <th>permalink</th>\n",
       "      <th>link_flair_text</th>\n",
       "      <th>doc</th>\n",
       "      <th>class</th>\n",
       "    </tr>\n",
       "  </thead>\n",
       "  <tbody>\n",
       "    <tr>\n",
       "      <th>0</th>\n",
       "      <td>dxv1c4</td>\n",
       "      <td>Baking-and-books</td>\n",
       "      <td>https://www.reddit.com/r/UMD/comments/dxv1c4/r...</td>\n",
       "      <td>Re-Leasing Apartment!</td>\n",
       "      <td>Re-Leasing my room in Commons 6. Amazing room...</td>\n",
       "      <td>1</td>\n",
       "      <td>1.574036e+09</td>\n",
       "      <td>/r/UMD/comments/dxv1c4/releasing_apartment/</td>\n",
       "      <td>Housing</td>\n",
       "      <td>re leas apartre leas room common amaz roommat ...</td>\n",
       "      <td>housing</td>\n",
       "    </tr>\n",
       "    <tr>\n",
       "      <th>1</th>\n",
       "      <td>dxuxzp</td>\n",
       "      <td>cdrgnvrk</td>\n",
       "      <td>https://www.reddit.com/r/UMD/comments/dxuxzp/e...</td>\n",
       "      <td>Eduroam ACTUALLY sucks dick</td>\n",
       "      <td>Fuck the division of IT for allowing this bull...</td>\n",
       "      <td>1</td>\n",
       "      <td>1.574035e+09</td>\n",
       "      <td>/r/UMD/comments/dxuxzp/eduroam_actually_sucks_...</td>\n",
       "      <td>None</td>\n",
       "      <td>eduroam actual suck dickfuck divis it allow bu...</td>\n",
       "      <td>general umd</td>\n",
       "    </tr>\n",
       "    <tr>\n",
       "      <th>2</th>\n",
       "      <td>dxuwpy</td>\n",
       "      <td>TonyChen616</td>\n",
       "      <td>https://v.redd.it/z0rvpzqi4cz31</td>\n",
       "      <td>OG Legends Strikes Again</td>\n",
       "      <td></td>\n",
       "      <td>4</td>\n",
       "      <td>1.574035e+09</td>\n",
       "      <td>/r/UMD/comments/dxuwpy/og_legends_strikes_again/</td>\n",
       "      <td>Discussion</td>\n",
       "      <td>og legend strike again</td>\n",
       "      <td>general umd</td>\n",
       "    </tr>\n",
       "    <tr>\n",
       "      <th>3</th>\n",
       "      <td>dxu8we</td>\n",
       "      <td>Shalleycat</td>\n",
       "      <td>https://www.reddit.com/r/UMD/comments/dxu8we/s...</td>\n",
       "      <td>Sustainable turtle sticker</td>\n",
       "      <td>Anyone know where I can get one of those susta...</td>\n",
       "      <td>1</td>\n",
       "      <td>1.574032e+09</td>\n",
       "      <td>/r/UMD/comments/dxu8we/sustainable_turtle_stic...</td>\n",
       "      <td>None</td>\n",
       "      <td>sustain turtl stickeranyon know i get one sust...</td>\n",
       "      <td>general umd</td>\n",
       "    </tr>\n",
       "    <tr>\n",
       "      <th>4</th>\n",
       "      <td>dxttl0</td>\n",
       "      <td>Rooser1212</td>\n",
       "      <td>https://www.reddit.com/r/UMD/comments/dxttl0/s...</td>\n",
       "      <td>Spring/Summer 2020 Sublease</td>\n",
       "      <td>I am studying abroad next semester and am look...</td>\n",
       "      <td>1</td>\n",
       "      <td>1.574030e+09</td>\n",
       "      <td>/r/UMD/comments/dxttl0/springsummer_2020_suble...</td>\n",
       "      <td>Housing</td>\n",
       "      <td>spring summer subleasi studi abroad next semes...</td>\n",
       "      <td>housing</td>\n",
       "    </tr>\n",
       "    <tr>\n",
       "      <th>...</th>\n",
       "      <td>...</td>\n",
       "      <td>...</td>\n",
       "      <td>...</td>\n",
       "      <td>...</td>\n",
       "      <td>...</td>\n",
       "      <td>...</td>\n",
       "      <td>...</td>\n",
       "      <td>...</td>\n",
       "      <td>...</td>\n",
       "      <td>...</td>\n",
       "      <td>...</td>\n",
       "    </tr>\n",
       "    <tr>\n",
       "      <th>42580</th>\n",
       "      <td>cscgl</td>\n",
       "      <td>Ares__</td>\n",
       "      <td>https://www.reddit.com/r/UMD/comments/cscgl/al...</td>\n",
       "      <td>All of you people that are ahead of me on the ...</td>\n",
       "      <td></td>\n",
       "      <td>3</td>\n",
       "      <td>1.279777e+09</td>\n",
       "      <td>/r/UMD/comments/cscgl/all_of_you_people_that_a...</td>\n",
       "      <td>None</td>\n",
       "      <td>all peopl ahead wait list i go need go ahead b...</td>\n",
       "      <td>course / campus questions</td>\n",
       "    </tr>\n",
       "    <tr>\n",
       "      <th>42581</th>\n",
       "      <td>cj6m4</td>\n",
       "      <td>maxpericulosus</td>\n",
       "      <td>https://www.reddit.com/r/UMD/comments/cj6m4/we...</td>\n",
       "      <td>Welcome to the UMD subreddit!</td>\n",
       "      <td>Welcome to the University of Maryland subreddi...</td>\n",
       "      <td>4</td>\n",
       "      <td>1.277528e+09</td>\n",
       "      <td>/r/UMD/comments/cj6m4/welcome_to_the_umd_subre...</td>\n",
       "      <td>None</td>\n",
       "      <td>welcom umd subredditwelcom univers maryland su...</td>\n",
       "      <td>events / internet</td>\n",
       "    </tr>\n",
       "    <tr>\n",
       "      <th>42582</th>\n",
       "      <td>cj564</td>\n",
       "      <td>chrisg90</td>\n",
       "      <td>https://www.reddit.com/r/UMD/comments/cj564/po...</td>\n",
       "      <td>Poop? In my McKeldin?</td>\n",
       "      <td>[Defecator Banned from McKeldin](http://www.di...</td>\n",
       "      <td>6</td>\n",
       "      <td>1.277516e+09</td>\n",
       "      <td>/r/UMD/comments/cj564/poop_in_my_mckeldin/</td>\n",
       "      <td>None</td>\n",
       "      <td>poop in mckeldindefec ban mckeldin http www di...</td>\n",
       "      <td>general umd</td>\n",
       "    </tr>\n",
       "    <tr>\n",
       "      <th>42583</th>\n",
       "      <td>cj526</td>\n",
       "      <td>None</td>\n",
       "      <td>https://www.reddit.com/r/UMD/comments/cj526/po...</td>\n",
       "      <td>Poop? In my McKeldin?</td>\n",
       "      <td>[deleted]</td>\n",
       "      <td>1</td>\n",
       "      <td>1.277515e+09</td>\n",
       "      <td>/r/UMD/comments/cj526/poop_in_my_mckeldin/</td>\n",
       "      <td>None</td>\n",
       "      <td>poop in mckeldindelet</td>\n",
       "      <td>general umd</td>\n",
       "    </tr>\n",
       "    <tr>\n",
       "      <th>42584</th>\n",
       "      <td>citbc</td>\n",
       "      <td>unwavering</td>\n",
       "      <td>http://www.umiacs.umd.edu/~odonovan/Audio_Camera/</td>\n",
       "      <td>The Camera that Sees Sound!</td>\n",
       "      <td></td>\n",
       "      <td>3</td>\n",
       "      <td>1.277439e+09</td>\n",
       "      <td>/r/UMD/comments/citbc/the_camera_that_sees_sound/</td>\n",
       "      <td>None</td>\n",
       "      <td>the camera see sound</td>\n",
       "      <td>general umd</td>\n",
       "    </tr>\n",
       "  </tbody>\n",
       "</table>\n",
       "<p>42585 rows × 11 columns</p>\n",
       "</div>"
      ],
      "text/plain": [
       "           id              name  \\\n",
       "0      dxv1c4  Baking-and-books   \n",
       "1      dxuxzp          cdrgnvrk   \n",
       "2      dxuwpy       TonyChen616   \n",
       "3      dxu8we        Shalleycat   \n",
       "4      dxttl0        Rooser1212   \n",
       "...       ...               ...   \n",
       "42580   cscgl            Ares__   \n",
       "42581   cj6m4    maxpericulosus   \n",
       "42582   cj564          chrisg90   \n",
       "42583   cj526              None   \n",
       "42584   citbc        unwavering   \n",
       "\n",
       "                                                     url  \\\n",
       "0      https://www.reddit.com/r/UMD/comments/dxv1c4/r...   \n",
       "1      https://www.reddit.com/r/UMD/comments/dxuxzp/e...   \n",
       "2                        https://v.redd.it/z0rvpzqi4cz31   \n",
       "3      https://www.reddit.com/r/UMD/comments/dxu8we/s...   \n",
       "4      https://www.reddit.com/r/UMD/comments/dxttl0/s...   \n",
       "...                                                  ...   \n",
       "42580  https://www.reddit.com/r/UMD/comments/cscgl/al...   \n",
       "42581  https://www.reddit.com/r/UMD/comments/cj6m4/we...   \n",
       "42582  https://www.reddit.com/r/UMD/comments/cj564/po...   \n",
       "42583  https://www.reddit.com/r/UMD/comments/cj526/po...   \n",
       "42584  http://www.umiacs.umd.edu/~odonovan/Audio_Camera/   \n",
       "\n",
       "                                                   title  \\\n",
       "0                                  Re-Leasing Apartment!   \n",
       "1                            Eduroam ACTUALLY sucks dick   \n",
       "2                               OG Legends Strikes Again   \n",
       "3                             Sustainable turtle sticker   \n",
       "4                            Spring/Summer 2020 Sublease   \n",
       "...                                                  ...   \n",
       "42580  All of you people that are ahead of me on the ...   \n",
       "42581                      Welcome to the UMD subreddit!   \n",
       "42582                              Poop? In my McKeldin?   \n",
       "42583                              Poop? In my McKeldin?   \n",
       "42584                        The Camera that Sees Sound!   \n",
       "\n",
       "                                                selftext  score   created_utc  \\\n",
       "0       Re-Leasing my room in Commons 6. Amazing room...      1  1.574036e+09   \n",
       "1      Fuck the division of IT for allowing this bull...      1  1.574035e+09   \n",
       "2                                                             4  1.574035e+09   \n",
       "3      Anyone know where I can get one of those susta...      1  1.574032e+09   \n",
       "4      I am studying abroad next semester and am look...      1  1.574030e+09   \n",
       "...                                                  ...    ...           ...   \n",
       "42580                                                         3  1.279777e+09   \n",
       "42581  Welcome to the University of Maryland subreddi...      4  1.277528e+09   \n",
       "42582  [Defecator Banned from McKeldin](http://www.di...      6  1.277516e+09   \n",
       "42583                                          [deleted]      1  1.277515e+09   \n",
       "42584                                                         3  1.277439e+09   \n",
       "\n",
       "                                               permalink link_flair_text  \\\n",
       "0            /r/UMD/comments/dxv1c4/releasing_apartment/         Housing   \n",
       "1      /r/UMD/comments/dxuxzp/eduroam_actually_sucks_...            None   \n",
       "2       /r/UMD/comments/dxuwpy/og_legends_strikes_again/      Discussion   \n",
       "3      /r/UMD/comments/dxu8we/sustainable_turtle_stic...            None   \n",
       "4      /r/UMD/comments/dxttl0/springsummer_2020_suble...         Housing   \n",
       "...                                                  ...             ...   \n",
       "42580  /r/UMD/comments/cscgl/all_of_you_people_that_a...            None   \n",
       "42581  /r/UMD/comments/cj6m4/welcome_to_the_umd_subre...            None   \n",
       "42582         /r/UMD/comments/cj564/poop_in_my_mckeldin/            None   \n",
       "42583         /r/UMD/comments/cj526/poop_in_my_mckeldin/            None   \n",
       "42584  /r/UMD/comments/citbc/the_camera_that_sees_sound/            None   \n",
       "\n",
       "                                                     doc  \\\n",
       "0      re leas apartre leas room common amaz roommat ...   \n",
       "1      eduroam actual suck dickfuck divis it allow bu...   \n",
       "2                                 og legend strike again   \n",
       "3      sustain turtl stickeranyon know i get one sust...   \n",
       "4      spring summer subleasi studi abroad next semes...   \n",
       "...                                                  ...   \n",
       "42580  all peopl ahead wait list i go need go ahead b...   \n",
       "42581  welcom umd subredditwelcom univers maryland su...   \n",
       "42582  poop in mckeldindefec ban mckeldin http www di...   \n",
       "42583                              poop in mckeldindelet   \n",
       "42584                               the camera see sound   \n",
       "\n",
       "                           class  \n",
       "0                        housing  \n",
       "1                    general umd  \n",
       "2                    general umd  \n",
       "3                    general umd  \n",
       "4                        housing  \n",
       "...                          ...  \n",
       "42580  course / campus questions  \n",
       "42581          events / internet  \n",
       "42582                general umd  \n",
       "42583                general umd  \n",
       "42584                general umd  \n",
       "\n",
       "[42585 rows x 11 columns]"
      ]
     },
     "execution_count": 11,
     "metadata": {},
     "output_type": "execute_result"
    }
   ],
   "source": [
    "classifications = []\n",
    "\n",
    "for row in df_post.iterrows() :\n",
    "    classifications.append(subjects[classify(row[1]['doc'])])\n",
    "df_post['class'] = classifications\n",
    "df_post.drop(['doc'], axis = 1) #don't need this anymore\n",
    "df_post"
   ]
  },
  {
   "cell_type": "code",
   "execution_count": 13,
   "metadata": {},
   "outputs": [],
   "source": [
    "subject_count = {'major requirements' : 0, 'admissions / trasfer' : 0, 'math' :0, 'sports' : 0, 'general umd' : 0,\n",
    "            'parking' : 0, 'housing' : 0, 'cs classes' : 0, 'housing' : 0, 'events / internet' : 0, 'weekly posts' : 0,\n",
    "            'registration' : 0, 'course / campus questions' : 0}\n",
    "\n",
    "for row in df_post.iterrows() :\n",
    "    subject_count[row[1]['class']] += 1"
   ]
  },
  {
   "cell_type": "markdown",
   "metadata": {},
   "source": [
    "We can also use pyplot to create pie chart, which can be a nice visual aid to show the breakdown of the post categories across the entire subreddit"
   ]
  },
  {
   "cell_type": "code",
   "execution_count": 88,
   "metadata": {},
   "outputs": [
    {
     "data": {
      "application/vnd.plotly.v1+json": {
       "config": {
        "plotlyServerURL": "https://plot.ly"
       },
       "data": [
        {
         "domain": {
          "x": [
           0,
           1
          ],
          "y": [
           0,
           1
          ]
         },
         "hoverlabel": {
          "namelength": 0
         },
         "hovertemplate": "classification=%{label}<br>count=%{value}",
         "labels": [
          "major requirements",
          "admissions / trasfer",
          "math",
          "sports",
          "general umd",
          "parking",
          "housing",
          "cs classes",
          "events / internet",
          "weekly posts",
          "registration",
          "course / campus questions"
         ],
         "legendgroup": "",
         "name": "",
         "showlegend": true,
         "type": "pie",
         "values": [
          1659,
          671,
          1044,
          675,
          20359,
          1206,
          3772,
          1105,
          3067,
          199,
          1624,
          7204
         ]
        }
       ],
       "layout": {
        "legend": {
         "tracegroupgap": 0
        },
        "template": {
         "data": {
          "bar": [
           {
            "error_x": {
             "color": "#2a3f5f"
            },
            "error_y": {
             "color": "#2a3f5f"
            },
            "marker": {
             "line": {
              "color": "#E5ECF6",
              "width": 0.5
             }
            },
            "type": "bar"
           }
          ],
          "barpolar": [
           {
            "marker": {
             "line": {
              "color": "#E5ECF6",
              "width": 0.5
             }
            },
            "type": "barpolar"
           }
          ],
          "carpet": [
           {
            "aaxis": {
             "endlinecolor": "#2a3f5f",
             "gridcolor": "white",
             "linecolor": "white",
             "minorgridcolor": "white",
             "startlinecolor": "#2a3f5f"
            },
            "baxis": {
             "endlinecolor": "#2a3f5f",
             "gridcolor": "white",
             "linecolor": "white",
             "minorgridcolor": "white",
             "startlinecolor": "#2a3f5f"
            },
            "type": "carpet"
           }
          ],
          "choropleth": [
           {
            "colorbar": {
             "outlinewidth": 0,
             "ticks": ""
            },
            "type": "choropleth"
           }
          ],
          "contour": [
           {
            "colorbar": {
             "outlinewidth": 0,
             "ticks": ""
            },
            "colorscale": [
             [
              0,
              "#0d0887"
             ],
             [
              0.1111111111111111,
              "#46039f"
             ],
             [
              0.2222222222222222,
              "#7201a8"
             ],
             [
              0.3333333333333333,
              "#9c179e"
             ],
             [
              0.4444444444444444,
              "#bd3786"
             ],
             [
              0.5555555555555556,
              "#d8576b"
             ],
             [
              0.6666666666666666,
              "#ed7953"
             ],
             [
              0.7777777777777778,
              "#fb9f3a"
             ],
             [
              0.8888888888888888,
              "#fdca26"
             ],
             [
              1,
              "#f0f921"
             ]
            ],
            "type": "contour"
           }
          ],
          "contourcarpet": [
           {
            "colorbar": {
             "outlinewidth": 0,
             "ticks": ""
            },
            "type": "contourcarpet"
           }
          ],
          "heatmap": [
           {
            "colorbar": {
             "outlinewidth": 0,
             "ticks": ""
            },
            "colorscale": [
             [
              0,
              "#0d0887"
             ],
             [
              0.1111111111111111,
              "#46039f"
             ],
             [
              0.2222222222222222,
              "#7201a8"
             ],
             [
              0.3333333333333333,
              "#9c179e"
             ],
             [
              0.4444444444444444,
              "#bd3786"
             ],
             [
              0.5555555555555556,
              "#d8576b"
             ],
             [
              0.6666666666666666,
              "#ed7953"
             ],
             [
              0.7777777777777778,
              "#fb9f3a"
             ],
             [
              0.8888888888888888,
              "#fdca26"
             ],
             [
              1,
              "#f0f921"
             ]
            ],
            "type": "heatmap"
           }
          ],
          "heatmapgl": [
           {
            "colorbar": {
             "outlinewidth": 0,
             "ticks": ""
            },
            "colorscale": [
             [
              0,
              "#0d0887"
             ],
             [
              0.1111111111111111,
              "#46039f"
             ],
             [
              0.2222222222222222,
              "#7201a8"
             ],
             [
              0.3333333333333333,
              "#9c179e"
             ],
             [
              0.4444444444444444,
              "#bd3786"
             ],
             [
              0.5555555555555556,
              "#d8576b"
             ],
             [
              0.6666666666666666,
              "#ed7953"
             ],
             [
              0.7777777777777778,
              "#fb9f3a"
             ],
             [
              0.8888888888888888,
              "#fdca26"
             ],
             [
              1,
              "#f0f921"
             ]
            ],
            "type": "heatmapgl"
           }
          ],
          "histogram": [
           {
            "marker": {
             "colorbar": {
              "outlinewidth": 0,
              "ticks": ""
             }
            },
            "type": "histogram"
           }
          ],
          "histogram2d": [
           {
            "colorbar": {
             "outlinewidth": 0,
             "ticks": ""
            },
            "colorscale": [
             [
              0,
              "#0d0887"
             ],
             [
              0.1111111111111111,
              "#46039f"
             ],
             [
              0.2222222222222222,
              "#7201a8"
             ],
             [
              0.3333333333333333,
              "#9c179e"
             ],
             [
              0.4444444444444444,
              "#bd3786"
             ],
             [
              0.5555555555555556,
              "#d8576b"
             ],
             [
              0.6666666666666666,
              "#ed7953"
             ],
             [
              0.7777777777777778,
              "#fb9f3a"
             ],
             [
              0.8888888888888888,
              "#fdca26"
             ],
             [
              1,
              "#f0f921"
             ]
            ],
            "type": "histogram2d"
           }
          ],
          "histogram2dcontour": [
           {
            "colorbar": {
             "outlinewidth": 0,
             "ticks": ""
            },
            "colorscale": [
             [
              0,
              "#0d0887"
             ],
             [
              0.1111111111111111,
              "#46039f"
             ],
             [
              0.2222222222222222,
              "#7201a8"
             ],
             [
              0.3333333333333333,
              "#9c179e"
             ],
             [
              0.4444444444444444,
              "#bd3786"
             ],
             [
              0.5555555555555556,
              "#d8576b"
             ],
             [
              0.6666666666666666,
              "#ed7953"
             ],
             [
              0.7777777777777778,
              "#fb9f3a"
             ],
             [
              0.8888888888888888,
              "#fdca26"
             ],
             [
              1,
              "#f0f921"
             ]
            ],
            "type": "histogram2dcontour"
           }
          ],
          "mesh3d": [
           {
            "colorbar": {
             "outlinewidth": 0,
             "ticks": ""
            },
            "type": "mesh3d"
           }
          ],
          "parcoords": [
           {
            "line": {
             "colorbar": {
              "outlinewidth": 0,
              "ticks": ""
             }
            },
            "type": "parcoords"
           }
          ],
          "pie": [
           {
            "automargin": true,
            "type": "pie"
           }
          ],
          "scatter": [
           {
            "marker": {
             "colorbar": {
              "outlinewidth": 0,
              "ticks": ""
             }
            },
            "type": "scatter"
           }
          ],
          "scatter3d": [
           {
            "line": {
             "colorbar": {
              "outlinewidth": 0,
              "ticks": ""
             }
            },
            "marker": {
             "colorbar": {
              "outlinewidth": 0,
              "ticks": ""
             }
            },
            "type": "scatter3d"
           }
          ],
          "scattercarpet": [
           {
            "marker": {
             "colorbar": {
              "outlinewidth": 0,
              "ticks": ""
             }
            },
            "type": "scattercarpet"
           }
          ],
          "scattergeo": [
           {
            "marker": {
             "colorbar": {
              "outlinewidth": 0,
              "ticks": ""
             }
            },
            "type": "scattergeo"
           }
          ],
          "scattergl": [
           {
            "marker": {
             "colorbar": {
              "outlinewidth": 0,
              "ticks": ""
             }
            },
            "type": "scattergl"
           }
          ],
          "scattermapbox": [
           {
            "marker": {
             "colorbar": {
              "outlinewidth": 0,
              "ticks": ""
             }
            },
            "type": "scattermapbox"
           }
          ],
          "scatterpolar": [
           {
            "marker": {
             "colorbar": {
              "outlinewidth": 0,
              "ticks": ""
             }
            },
            "type": "scatterpolar"
           }
          ],
          "scatterpolargl": [
           {
            "marker": {
             "colorbar": {
              "outlinewidth": 0,
              "ticks": ""
             }
            },
            "type": "scatterpolargl"
           }
          ],
          "scatterternary": [
           {
            "marker": {
             "colorbar": {
              "outlinewidth": 0,
              "ticks": ""
             }
            },
            "type": "scatterternary"
           }
          ],
          "surface": [
           {
            "colorbar": {
             "outlinewidth": 0,
             "ticks": ""
            },
            "colorscale": [
             [
              0,
              "#0d0887"
             ],
             [
              0.1111111111111111,
              "#46039f"
             ],
             [
              0.2222222222222222,
              "#7201a8"
             ],
             [
              0.3333333333333333,
              "#9c179e"
             ],
             [
              0.4444444444444444,
              "#bd3786"
             ],
             [
              0.5555555555555556,
              "#d8576b"
             ],
             [
              0.6666666666666666,
              "#ed7953"
             ],
             [
              0.7777777777777778,
              "#fb9f3a"
             ],
             [
              0.8888888888888888,
              "#fdca26"
             ],
             [
              1,
              "#f0f921"
             ]
            ],
            "type": "surface"
           }
          ],
          "table": [
           {
            "cells": {
             "fill": {
              "color": "#EBF0F8"
             },
             "line": {
              "color": "white"
             }
            },
            "header": {
             "fill": {
              "color": "#C8D4E3"
             },
             "line": {
              "color": "white"
             }
            },
            "type": "table"
           }
          ]
         },
         "layout": {
          "annotationdefaults": {
           "arrowcolor": "#2a3f5f",
           "arrowhead": 0,
           "arrowwidth": 1
          },
          "coloraxis": {
           "colorbar": {
            "outlinewidth": 0,
            "ticks": ""
           }
          },
          "colorscale": {
           "diverging": [
            [
             0,
             "#8e0152"
            ],
            [
             0.1,
             "#c51b7d"
            ],
            [
             0.2,
             "#de77ae"
            ],
            [
             0.3,
             "#f1b6da"
            ],
            [
             0.4,
             "#fde0ef"
            ],
            [
             0.5,
             "#f7f7f7"
            ],
            [
             0.6,
             "#e6f5d0"
            ],
            [
             0.7,
             "#b8e186"
            ],
            [
             0.8,
             "#7fbc41"
            ],
            [
             0.9,
             "#4d9221"
            ],
            [
             1,
             "#276419"
            ]
           ],
           "sequential": [
            [
             0,
             "#0d0887"
            ],
            [
             0.1111111111111111,
             "#46039f"
            ],
            [
             0.2222222222222222,
             "#7201a8"
            ],
            [
             0.3333333333333333,
             "#9c179e"
            ],
            [
             0.4444444444444444,
             "#bd3786"
            ],
            [
             0.5555555555555556,
             "#d8576b"
            ],
            [
             0.6666666666666666,
             "#ed7953"
            ],
            [
             0.7777777777777778,
             "#fb9f3a"
            ],
            [
             0.8888888888888888,
             "#fdca26"
            ],
            [
             1,
             "#f0f921"
            ]
           ],
           "sequentialminus": [
            [
             0,
             "#0d0887"
            ],
            [
             0.1111111111111111,
             "#46039f"
            ],
            [
             0.2222222222222222,
             "#7201a8"
            ],
            [
             0.3333333333333333,
             "#9c179e"
            ],
            [
             0.4444444444444444,
             "#bd3786"
            ],
            [
             0.5555555555555556,
             "#d8576b"
            ],
            [
             0.6666666666666666,
             "#ed7953"
            ],
            [
             0.7777777777777778,
             "#fb9f3a"
            ],
            [
             0.8888888888888888,
             "#fdca26"
            ],
            [
             1,
             "#f0f921"
            ]
           ]
          },
          "colorway": [
           "#636efa",
           "#EF553B",
           "#00cc96",
           "#ab63fa",
           "#FFA15A",
           "#19d3f3",
           "#FF6692",
           "#B6E880",
           "#FF97FF",
           "#FECB52"
          ],
          "font": {
           "color": "#2a3f5f"
          },
          "geo": {
           "bgcolor": "white",
           "lakecolor": "white",
           "landcolor": "#E5ECF6",
           "showlakes": true,
           "showland": true,
           "subunitcolor": "white"
          },
          "hoverlabel": {
           "align": "left"
          },
          "hovermode": "closest",
          "mapbox": {
           "style": "light"
          },
          "paper_bgcolor": "white",
          "plot_bgcolor": "#E5ECF6",
          "polar": {
           "angularaxis": {
            "gridcolor": "white",
            "linecolor": "white",
            "ticks": ""
           },
           "bgcolor": "#E5ECF6",
           "radialaxis": {
            "gridcolor": "white",
            "linecolor": "white",
            "ticks": ""
           }
          },
          "scene": {
           "xaxis": {
            "backgroundcolor": "#E5ECF6",
            "gridcolor": "white",
            "gridwidth": 2,
            "linecolor": "white",
            "showbackground": true,
            "ticks": "",
            "zerolinecolor": "white"
           },
           "yaxis": {
            "backgroundcolor": "#E5ECF6",
            "gridcolor": "white",
            "gridwidth": 2,
            "linecolor": "white",
            "showbackground": true,
            "ticks": "",
            "zerolinecolor": "white"
           },
           "zaxis": {
            "backgroundcolor": "#E5ECF6",
            "gridcolor": "white",
            "gridwidth": 2,
            "linecolor": "white",
            "showbackground": true,
            "ticks": "",
            "zerolinecolor": "white"
           }
          },
          "shapedefaults": {
           "line": {
            "color": "#2a3f5f"
           }
          },
          "ternary": {
           "aaxis": {
            "gridcolor": "white",
            "linecolor": "white",
            "ticks": ""
           },
           "baxis": {
            "gridcolor": "white",
            "linecolor": "white",
            "ticks": ""
           },
           "bgcolor": "#E5ECF6",
           "caxis": {
            "gridcolor": "white",
            "linecolor": "white",
            "ticks": ""
           }
          },
          "title": {
           "x": 0.05
          },
          "xaxis": {
           "automargin": true,
           "gridcolor": "white",
           "linecolor": "white",
           "ticks": "",
           "title": {
            "standoff": 15
           },
           "zerolinecolor": "white",
           "zerolinewidth": 2
          },
          "yaxis": {
           "automargin": true,
           "gridcolor": "white",
           "linecolor": "white",
           "ticks": "",
           "title": {
            "standoff": 15
           },
           "zerolinecolor": "white",
           "zerolinewidth": 2
          }
         }
        },
        "title": {
         "text": "Classification of r/UMD Posts by Percent"
        }
       }
      },
      "text/html": [
       "<div>\n",
       "        \n",
       "        \n",
       "            <div id=\"99a1bf14-590c-4ab1-8dfd-54fc50206d48\" class=\"plotly-graph-div\" style=\"height:525px; width:100%;\"></div>\n",
       "            <script type=\"text/javascript\">\n",
       "                require([\"plotly\"], function(Plotly) {\n",
       "                    window.PLOTLYENV=window.PLOTLYENV || {};\n",
       "                    \n",
       "                if (document.getElementById(\"99a1bf14-590c-4ab1-8dfd-54fc50206d48\")) {\n",
       "                    Plotly.newPlot(\n",
       "                        '99a1bf14-590c-4ab1-8dfd-54fc50206d48',\n",
       "                        [{\"domain\": {\"x\": [0.0, 1.0], \"y\": [0.0, 1.0]}, \"hoverlabel\": {\"namelength\": 0}, \"hovertemplate\": \"classification=%{label}<br>count=%{value}\", \"labels\": [\"major requirements\", \"admissions / trasfer\", \"math\", \"sports\", \"general umd\", \"parking\", \"housing\", \"cs classes\", \"events / internet\", \"weekly posts\", \"registration\", \"course / campus questions\"], \"legendgroup\": \"\", \"name\": \"\", \"showlegend\": true, \"type\": \"pie\", \"values\": [1659, 671, 1044, 675, 20359, 1206, 3772, 1105, 3067, 199, 1624, 7204]}],\n",
       "                        {\"legend\": {\"tracegroupgap\": 0}, \"template\": {\"data\": {\"bar\": [{\"error_x\": {\"color\": \"#2a3f5f\"}, \"error_y\": {\"color\": \"#2a3f5f\"}, \"marker\": {\"line\": {\"color\": \"#E5ECF6\", \"width\": 0.5}}, \"type\": \"bar\"}], \"barpolar\": [{\"marker\": {\"line\": {\"color\": \"#E5ECF6\", \"width\": 0.5}}, \"type\": \"barpolar\"}], \"carpet\": [{\"aaxis\": {\"endlinecolor\": \"#2a3f5f\", \"gridcolor\": \"white\", \"linecolor\": \"white\", \"minorgridcolor\": \"white\", \"startlinecolor\": \"#2a3f5f\"}, \"baxis\": {\"endlinecolor\": \"#2a3f5f\", \"gridcolor\": \"white\", \"linecolor\": \"white\", \"minorgridcolor\": \"white\", \"startlinecolor\": \"#2a3f5f\"}, \"type\": \"carpet\"}], \"choropleth\": [{\"colorbar\": {\"outlinewidth\": 0, \"ticks\": \"\"}, \"type\": \"choropleth\"}], \"contour\": [{\"colorbar\": {\"outlinewidth\": 0, \"ticks\": \"\"}, \"colorscale\": [[0.0, \"#0d0887\"], [0.1111111111111111, \"#46039f\"], [0.2222222222222222, \"#7201a8\"], [0.3333333333333333, \"#9c179e\"], [0.4444444444444444, \"#bd3786\"], [0.5555555555555556, \"#d8576b\"], [0.6666666666666666, \"#ed7953\"], [0.7777777777777778, \"#fb9f3a\"], [0.8888888888888888, \"#fdca26\"], [1.0, \"#f0f921\"]], \"type\": \"contour\"}], \"contourcarpet\": [{\"colorbar\": {\"outlinewidth\": 0, \"ticks\": \"\"}, \"type\": \"contourcarpet\"}], \"heatmap\": [{\"colorbar\": {\"outlinewidth\": 0, \"ticks\": \"\"}, \"colorscale\": [[0.0, \"#0d0887\"], [0.1111111111111111, \"#46039f\"], [0.2222222222222222, \"#7201a8\"], [0.3333333333333333, \"#9c179e\"], [0.4444444444444444, \"#bd3786\"], [0.5555555555555556, \"#d8576b\"], [0.6666666666666666, \"#ed7953\"], [0.7777777777777778, \"#fb9f3a\"], [0.8888888888888888, \"#fdca26\"], [1.0, \"#f0f921\"]], \"type\": \"heatmap\"}], \"heatmapgl\": [{\"colorbar\": {\"outlinewidth\": 0, \"ticks\": \"\"}, \"colorscale\": [[0.0, \"#0d0887\"], [0.1111111111111111, \"#46039f\"], [0.2222222222222222, \"#7201a8\"], [0.3333333333333333, \"#9c179e\"], [0.4444444444444444, \"#bd3786\"], [0.5555555555555556, \"#d8576b\"], [0.6666666666666666, \"#ed7953\"], [0.7777777777777778, \"#fb9f3a\"], [0.8888888888888888, \"#fdca26\"], [1.0, \"#f0f921\"]], \"type\": \"heatmapgl\"}], \"histogram\": [{\"marker\": {\"colorbar\": {\"outlinewidth\": 0, \"ticks\": \"\"}}, \"type\": \"histogram\"}], \"histogram2d\": [{\"colorbar\": {\"outlinewidth\": 0, \"ticks\": \"\"}, \"colorscale\": [[0.0, \"#0d0887\"], [0.1111111111111111, \"#46039f\"], [0.2222222222222222, \"#7201a8\"], [0.3333333333333333, \"#9c179e\"], [0.4444444444444444, \"#bd3786\"], [0.5555555555555556, \"#d8576b\"], [0.6666666666666666, \"#ed7953\"], [0.7777777777777778, \"#fb9f3a\"], [0.8888888888888888, \"#fdca26\"], [1.0, \"#f0f921\"]], \"type\": \"histogram2d\"}], \"histogram2dcontour\": [{\"colorbar\": {\"outlinewidth\": 0, \"ticks\": \"\"}, \"colorscale\": [[0.0, \"#0d0887\"], [0.1111111111111111, \"#46039f\"], [0.2222222222222222, \"#7201a8\"], [0.3333333333333333, \"#9c179e\"], [0.4444444444444444, \"#bd3786\"], [0.5555555555555556, \"#d8576b\"], [0.6666666666666666, \"#ed7953\"], [0.7777777777777778, \"#fb9f3a\"], [0.8888888888888888, \"#fdca26\"], [1.0, \"#f0f921\"]], \"type\": \"histogram2dcontour\"}], \"mesh3d\": [{\"colorbar\": {\"outlinewidth\": 0, \"ticks\": \"\"}, \"type\": \"mesh3d\"}], \"parcoords\": [{\"line\": {\"colorbar\": {\"outlinewidth\": 0, \"ticks\": \"\"}}, \"type\": \"parcoords\"}], \"pie\": [{\"automargin\": true, \"type\": \"pie\"}], \"scatter\": [{\"marker\": {\"colorbar\": {\"outlinewidth\": 0, \"ticks\": \"\"}}, \"type\": \"scatter\"}], \"scatter3d\": [{\"line\": {\"colorbar\": {\"outlinewidth\": 0, \"ticks\": \"\"}}, \"marker\": {\"colorbar\": {\"outlinewidth\": 0, \"ticks\": \"\"}}, \"type\": \"scatter3d\"}], \"scattercarpet\": [{\"marker\": {\"colorbar\": {\"outlinewidth\": 0, \"ticks\": \"\"}}, \"type\": \"scattercarpet\"}], \"scattergeo\": [{\"marker\": {\"colorbar\": {\"outlinewidth\": 0, \"ticks\": \"\"}}, \"type\": \"scattergeo\"}], \"scattergl\": [{\"marker\": {\"colorbar\": {\"outlinewidth\": 0, \"ticks\": \"\"}}, \"type\": \"scattergl\"}], \"scattermapbox\": [{\"marker\": {\"colorbar\": {\"outlinewidth\": 0, \"ticks\": \"\"}}, \"type\": \"scattermapbox\"}], \"scatterpolar\": [{\"marker\": {\"colorbar\": {\"outlinewidth\": 0, \"ticks\": \"\"}}, \"type\": \"scatterpolar\"}], \"scatterpolargl\": [{\"marker\": {\"colorbar\": {\"outlinewidth\": 0, \"ticks\": \"\"}}, \"type\": \"scatterpolargl\"}], \"scatterternary\": [{\"marker\": {\"colorbar\": {\"outlinewidth\": 0, \"ticks\": \"\"}}, \"type\": \"scatterternary\"}], \"surface\": [{\"colorbar\": {\"outlinewidth\": 0, \"ticks\": \"\"}, \"colorscale\": [[0.0, \"#0d0887\"], [0.1111111111111111, \"#46039f\"], [0.2222222222222222, \"#7201a8\"], [0.3333333333333333, \"#9c179e\"], [0.4444444444444444, \"#bd3786\"], [0.5555555555555556, \"#d8576b\"], [0.6666666666666666, \"#ed7953\"], [0.7777777777777778, \"#fb9f3a\"], [0.8888888888888888, \"#fdca26\"], [1.0, \"#f0f921\"]], \"type\": \"surface\"}], \"table\": [{\"cells\": {\"fill\": {\"color\": \"#EBF0F8\"}, \"line\": {\"color\": \"white\"}}, \"header\": {\"fill\": {\"color\": \"#C8D4E3\"}, \"line\": {\"color\": \"white\"}}, \"type\": \"table\"}]}, \"layout\": {\"annotationdefaults\": {\"arrowcolor\": \"#2a3f5f\", \"arrowhead\": 0, \"arrowwidth\": 1}, \"coloraxis\": {\"colorbar\": {\"outlinewidth\": 0, \"ticks\": \"\"}}, \"colorscale\": {\"diverging\": [[0, \"#8e0152\"], [0.1, \"#c51b7d\"], [0.2, \"#de77ae\"], [0.3, \"#f1b6da\"], [0.4, \"#fde0ef\"], [0.5, \"#f7f7f7\"], [0.6, \"#e6f5d0\"], [0.7, \"#b8e186\"], [0.8, \"#7fbc41\"], [0.9, \"#4d9221\"], [1, \"#276419\"]], \"sequential\": [[0.0, \"#0d0887\"], [0.1111111111111111, \"#46039f\"], [0.2222222222222222, \"#7201a8\"], [0.3333333333333333, \"#9c179e\"], [0.4444444444444444, \"#bd3786\"], [0.5555555555555556, \"#d8576b\"], [0.6666666666666666, \"#ed7953\"], [0.7777777777777778, \"#fb9f3a\"], [0.8888888888888888, \"#fdca26\"], [1.0, \"#f0f921\"]], \"sequentialminus\": [[0.0, \"#0d0887\"], [0.1111111111111111, \"#46039f\"], [0.2222222222222222, \"#7201a8\"], [0.3333333333333333, \"#9c179e\"], [0.4444444444444444, \"#bd3786\"], [0.5555555555555556, \"#d8576b\"], [0.6666666666666666, \"#ed7953\"], [0.7777777777777778, \"#fb9f3a\"], [0.8888888888888888, \"#fdca26\"], [1.0, \"#f0f921\"]]}, \"colorway\": [\"#636efa\", \"#EF553B\", \"#00cc96\", \"#ab63fa\", \"#FFA15A\", \"#19d3f3\", \"#FF6692\", \"#B6E880\", \"#FF97FF\", \"#FECB52\"], \"font\": {\"color\": \"#2a3f5f\"}, \"geo\": {\"bgcolor\": \"white\", \"lakecolor\": \"white\", \"landcolor\": \"#E5ECF6\", \"showlakes\": true, \"showland\": true, \"subunitcolor\": \"white\"}, \"hoverlabel\": {\"align\": \"left\"}, \"hovermode\": \"closest\", \"mapbox\": {\"style\": \"light\"}, \"paper_bgcolor\": \"white\", \"plot_bgcolor\": \"#E5ECF6\", \"polar\": {\"angularaxis\": {\"gridcolor\": \"white\", \"linecolor\": \"white\", \"ticks\": \"\"}, \"bgcolor\": \"#E5ECF6\", \"radialaxis\": {\"gridcolor\": \"white\", \"linecolor\": \"white\", \"ticks\": \"\"}}, \"scene\": {\"xaxis\": {\"backgroundcolor\": \"#E5ECF6\", \"gridcolor\": \"white\", \"gridwidth\": 2, \"linecolor\": \"white\", \"showbackground\": true, \"ticks\": \"\", \"zerolinecolor\": \"white\"}, \"yaxis\": {\"backgroundcolor\": \"#E5ECF6\", \"gridcolor\": \"white\", \"gridwidth\": 2, \"linecolor\": \"white\", \"showbackground\": true, \"ticks\": \"\", \"zerolinecolor\": \"white\"}, \"zaxis\": {\"backgroundcolor\": \"#E5ECF6\", \"gridcolor\": \"white\", \"gridwidth\": 2, \"linecolor\": \"white\", \"showbackground\": true, \"ticks\": \"\", \"zerolinecolor\": \"white\"}}, \"shapedefaults\": {\"line\": {\"color\": \"#2a3f5f\"}}, \"ternary\": {\"aaxis\": {\"gridcolor\": \"white\", \"linecolor\": \"white\", \"ticks\": \"\"}, \"baxis\": {\"gridcolor\": \"white\", \"linecolor\": \"white\", \"ticks\": \"\"}, \"bgcolor\": \"#E5ECF6\", \"caxis\": {\"gridcolor\": \"white\", \"linecolor\": \"white\", \"ticks\": \"\"}}, \"title\": {\"x\": 0.05}, \"xaxis\": {\"automargin\": true, \"gridcolor\": \"white\", \"linecolor\": \"white\", \"ticks\": \"\", \"title\": {\"standoff\": 15}, \"zerolinecolor\": \"white\", \"zerolinewidth\": 2}, \"yaxis\": {\"automargin\": true, \"gridcolor\": \"white\", \"linecolor\": \"white\", \"ticks\": \"\", \"title\": {\"standoff\": 15}, \"zerolinecolor\": \"white\", \"zerolinewidth\": 2}}}, \"title\": {\"text\": \"Classification of r/UMD Posts by Percent\"}},\n",
       "                        {\"responsive\": true}\n",
       "                    ).then(function(){\n",
       "                            \n",
       "var gd = document.getElementById('99a1bf14-590c-4ab1-8dfd-54fc50206d48');\n",
       "var x = new MutationObserver(function (mutations, observer) {{\n",
       "        var display = window.getComputedStyle(gd).display;\n",
       "        if (!display || display === 'none') {{\n",
       "            console.log([gd, 'removed!']);\n",
       "            Plotly.purge(gd);\n",
       "            observer.disconnect();\n",
       "        }}\n",
       "}});\n",
       "\n",
       "// Listen for the removal of the full notebook cells\n",
       "var notebookContainer = gd.closest('#notebook-container');\n",
       "if (notebookContainer) {{\n",
       "    x.observe(notebookContainer, {childList: true});\n",
       "}}\n",
       "\n",
       "// Listen for the clearing of the current output cell\n",
       "var outputEl = gd.closest('.output');\n",
       "if (outputEl) {{\n",
       "    x.observe(outputEl, {childList: true});\n",
       "}}\n",
       "\n",
       "                        })\n",
       "                };\n",
       "                });\n",
       "            </script>\n",
       "        </div>"
      ]
     },
     "metadata": {},
     "output_type": "display_data"
    }
   ],
   "source": [
    "df_temp = pd.DataFrame()\n",
    "df_temp['classification'] = subject_count.keys()\n",
    "df_temp['count'] = subject_count.values()\n",
    "fig = px.pie(df_temp, values = 'count', names='classification', title='Classification of r/UMD Posts by Percent')\n",
    "fig.show()"
   ]
  },
  {
   "cell_type": "markdown",
   "metadata": {},
   "source": [
    "Next, I will be using the VADER (Valence Aware Dictionary and sEntiment Reasoner) algorithm, which is a pre-trained model that specializes in sentiment analysis of social media posts. \n",
    "\n",
    "VADER takes in a string and returns 4 scores: positive, neutral, negative, and compound. The first 3 reflect the percent of the string made up of positive, negative, and neutral keywords. These scores always add up to 1. Compound score is a composite of the first 3, between -1 and 1, which is normalized to account for context, length, and emphasis of the words. We define a score of >= 0.05 as positive, < 0.05 && > -0.05 as neutral, and <= 0.05 as negative, in accordance with the VADER guidelines.\n",
    "\n",
    "Firstly, we define a simple function to return 'pos', 'neg', or 'neu' based on the composite score"
   ]
  },
  {
   "cell_type": "code",
   "execution_count": 44,
   "metadata": {},
   "outputs": [],
   "source": [
    "analyzer = SentimentIntensityAnalyzer()\n",
    "\n",
    "def classify_sentiment(sentence) :\n",
    "    score = analyzer.polarity_scores(sentence)\n",
    "    if score['pos'] >= 0.05 :\n",
    "        return 'positive'\n",
    "    if score['neg'] <= 0.05 :\n",
    "        return 'negative'\n",
    "    return 'neutral'"
   ]
  },
  {
   "cell_type": "markdown",
   "metadata": {},
   "source": [
    "We need to iterate throuhh all posts and run this function to get a sentiment for each post\n",
    "We can also add a new column to the table corresponding to the sentiment of each post"
   ]
  },
  {
   "cell_type": "code",
   "execution_count": 45,
   "metadata": {},
   "outputs": [
    {
     "data": {
      "text/html": [
       "<div>\n",
       "<style scoped>\n",
       "    .dataframe tbody tr th:only-of-type {\n",
       "        vertical-align: middle;\n",
       "    }\n",
       "\n",
       "    .dataframe tbody tr th {\n",
       "        vertical-align: top;\n",
       "    }\n",
       "\n",
       "    .dataframe thead th {\n",
       "        text-align: right;\n",
       "    }\n",
       "</style>\n",
       "<table border=\"1\" class=\"dataframe\">\n",
       "  <thead>\n",
       "    <tr style=\"text-align: right;\">\n",
       "      <th></th>\n",
       "      <th>id</th>\n",
       "      <th>name</th>\n",
       "      <th>url</th>\n",
       "      <th>title</th>\n",
       "      <th>selftext</th>\n",
       "      <th>score</th>\n",
       "      <th>created_utc</th>\n",
       "      <th>permalink</th>\n",
       "      <th>link_flair_text</th>\n",
       "      <th>doc</th>\n",
       "      <th>class</th>\n",
       "      <th>sentiment</th>\n",
       "    </tr>\n",
       "  </thead>\n",
       "  <tbody>\n",
       "    <tr>\n",
       "      <th>0</th>\n",
       "      <td>dxv1c4</td>\n",
       "      <td>Baking-and-books</td>\n",
       "      <td>https://www.reddit.com/r/UMD/comments/dxv1c4/r...</td>\n",
       "      <td>Re-Leasing Apartment!</td>\n",
       "      <td>Re-Leasing my room in Commons 6. Amazing room...</td>\n",
       "      <td>1</td>\n",
       "      <td>1.574036e+09</td>\n",
       "      <td>/r/UMD/comments/dxv1c4/releasing_apartment/</td>\n",
       "      <td>Housing</td>\n",
       "      <td>re leas apartre leas room common amaz roommat ...</td>\n",
       "      <td>housing</td>\n",
       "      <td>positive</td>\n",
       "    </tr>\n",
       "    <tr>\n",
       "      <th>1</th>\n",
       "      <td>dxuxzp</td>\n",
       "      <td>cdrgnvrk</td>\n",
       "      <td>https://www.reddit.com/r/UMD/comments/dxuxzp/e...</td>\n",
       "      <td>Eduroam ACTUALLY sucks dick</td>\n",
       "      <td>Fuck the division of IT for allowing this bull...</td>\n",
       "      <td>1</td>\n",
       "      <td>1.574035e+09</td>\n",
       "      <td>/r/UMD/comments/dxuxzp/eduroam_actually_sucks_...</td>\n",
       "      <td>None</td>\n",
       "      <td>eduroam actual suck dickfuck divis it allow bu...</td>\n",
       "      <td>general umd</td>\n",
       "      <td>neutral</td>\n",
       "    </tr>\n",
       "    <tr>\n",
       "      <th>2</th>\n",
       "      <td>dxuwpy</td>\n",
       "      <td>TonyChen616</td>\n",
       "      <td>https://v.redd.it/z0rvpzqi4cz31</td>\n",
       "      <td>OG Legends Strikes Again</td>\n",
       "      <td></td>\n",
       "      <td>4</td>\n",
       "      <td>1.574035e+09</td>\n",
       "      <td>/r/UMD/comments/dxuwpy/og_legends_strikes_again/</td>\n",
       "      <td>Discussion</td>\n",
       "      <td>og legend strike again</td>\n",
       "      <td>general umd</td>\n",
       "      <td>neutral</td>\n",
       "    </tr>\n",
       "    <tr>\n",
       "      <th>3</th>\n",
       "      <td>dxu8we</td>\n",
       "      <td>Shalleycat</td>\n",
       "      <td>https://www.reddit.com/r/UMD/comments/dxu8we/s...</td>\n",
       "      <td>Sustainable turtle sticker</td>\n",
       "      <td>Anyone know where I can get one of those susta...</td>\n",
       "      <td>1</td>\n",
       "      <td>1.574032e+09</td>\n",
       "      <td>/r/UMD/comments/dxu8we/sustainable_turtle_stic...</td>\n",
       "      <td>None</td>\n",
       "      <td>sustain turtl stickeranyon know i get one sust...</td>\n",
       "      <td>general umd</td>\n",
       "      <td>positive</td>\n",
       "    </tr>\n",
       "    <tr>\n",
       "      <th>4</th>\n",
       "      <td>dxttl0</td>\n",
       "      <td>Rooser1212</td>\n",
       "      <td>https://www.reddit.com/r/UMD/comments/dxttl0/s...</td>\n",
       "      <td>Spring/Summer 2020 Sublease</td>\n",
       "      <td>I am studying abroad next semester and am look...</td>\n",
       "      <td>1</td>\n",
       "      <td>1.574030e+09</td>\n",
       "      <td>/r/UMD/comments/dxttl0/springsummer_2020_suble...</td>\n",
       "      <td>Housing</td>\n",
       "      <td>spring summer subleasi studi abroad next semes...</td>\n",
       "      <td>housing</td>\n",
       "      <td>positive</td>\n",
       "    </tr>\n",
       "    <tr>\n",
       "      <th>...</th>\n",
       "      <td>...</td>\n",
       "      <td>...</td>\n",
       "      <td>...</td>\n",
       "      <td>...</td>\n",
       "      <td>...</td>\n",
       "      <td>...</td>\n",
       "      <td>...</td>\n",
       "      <td>...</td>\n",
       "      <td>...</td>\n",
       "      <td>...</td>\n",
       "      <td>...</td>\n",
       "      <td>...</td>\n",
       "    </tr>\n",
       "    <tr>\n",
       "      <th>42580</th>\n",
       "      <td>cscgl</td>\n",
       "      <td>Ares__</td>\n",
       "      <td>https://www.reddit.com/r/UMD/comments/cscgl/al...</td>\n",
       "      <td>All of you people that are ahead of me on the ...</td>\n",
       "      <td></td>\n",
       "      <td>3</td>\n",
       "      <td>1.279777e+09</td>\n",
       "      <td>/r/UMD/comments/cscgl/all_of_you_people_that_a...</td>\n",
       "      <td>None</td>\n",
       "      <td>all peopl ahead wait list i go need go ahead b...</td>\n",
       "      <td>course / campus questions</td>\n",
       "      <td>positive</td>\n",
       "    </tr>\n",
       "    <tr>\n",
       "      <th>42581</th>\n",
       "      <td>cj6m4</td>\n",
       "      <td>maxpericulosus</td>\n",
       "      <td>https://www.reddit.com/r/UMD/comments/cj6m4/we...</td>\n",
       "      <td>Welcome to the UMD subreddit!</td>\n",
       "      <td>Welcome to the University of Maryland subreddi...</td>\n",
       "      <td>4</td>\n",
       "      <td>1.277528e+09</td>\n",
       "      <td>/r/UMD/comments/cj6m4/welcome_to_the_umd_subre...</td>\n",
       "      <td>None</td>\n",
       "      <td>welcom umd subredditwelcom univers maryland su...</td>\n",
       "      <td>events / internet</td>\n",
       "      <td>positive</td>\n",
       "    </tr>\n",
       "    <tr>\n",
       "      <th>42582</th>\n",
       "      <td>cj564</td>\n",
       "      <td>chrisg90</td>\n",
       "      <td>https://www.reddit.com/r/UMD/comments/cj564/po...</td>\n",
       "      <td>Poop? In my McKeldin?</td>\n",
       "      <td>[Defecator Banned from McKeldin](http://www.di...</td>\n",
       "      <td>6</td>\n",
       "      <td>1.277516e+09</td>\n",
       "      <td>/r/UMD/comments/cj564/poop_in_my_mckeldin/</td>\n",
       "      <td>None</td>\n",
       "      <td>poop in mckeldindefec ban mckeldin http www di...</td>\n",
       "      <td>general umd</td>\n",
       "      <td>neutral</td>\n",
       "    </tr>\n",
       "    <tr>\n",
       "      <th>42583</th>\n",
       "      <td>cj526</td>\n",
       "      <td>None</td>\n",
       "      <td>https://www.reddit.com/r/UMD/comments/cj526/po...</td>\n",
       "      <td>Poop? In my McKeldin?</td>\n",
       "      <td>[deleted]</td>\n",
       "      <td>1</td>\n",
       "      <td>1.277515e+09</td>\n",
       "      <td>/r/UMD/comments/cj526/poop_in_my_mckeldin/</td>\n",
       "      <td>None</td>\n",
       "      <td>poop in mckeldindelet</td>\n",
       "      <td>general umd</td>\n",
       "      <td>negative</td>\n",
       "    </tr>\n",
       "    <tr>\n",
       "      <th>42584</th>\n",
       "      <td>citbc</td>\n",
       "      <td>unwavering</td>\n",
       "      <td>http://www.umiacs.umd.edu/~odonovan/Audio_Camera/</td>\n",
       "      <td>The Camera that Sees Sound!</td>\n",
       "      <td></td>\n",
       "      <td>3</td>\n",
       "      <td>1.277439e+09</td>\n",
       "      <td>/r/UMD/comments/citbc/the_camera_that_sees_sound/</td>\n",
       "      <td>None</td>\n",
       "      <td>the camera see sound</td>\n",
       "      <td>general umd</td>\n",
       "      <td>negative</td>\n",
       "    </tr>\n",
       "  </tbody>\n",
       "</table>\n",
       "<p>42585 rows × 12 columns</p>\n",
       "</div>"
      ],
      "text/plain": [
       "           id              name  \\\n",
       "0      dxv1c4  Baking-and-books   \n",
       "1      dxuxzp          cdrgnvrk   \n",
       "2      dxuwpy       TonyChen616   \n",
       "3      dxu8we        Shalleycat   \n",
       "4      dxttl0        Rooser1212   \n",
       "...       ...               ...   \n",
       "42580   cscgl            Ares__   \n",
       "42581   cj6m4    maxpericulosus   \n",
       "42582   cj564          chrisg90   \n",
       "42583   cj526              None   \n",
       "42584   citbc        unwavering   \n",
       "\n",
       "                                                     url  \\\n",
       "0      https://www.reddit.com/r/UMD/comments/dxv1c4/r...   \n",
       "1      https://www.reddit.com/r/UMD/comments/dxuxzp/e...   \n",
       "2                        https://v.redd.it/z0rvpzqi4cz31   \n",
       "3      https://www.reddit.com/r/UMD/comments/dxu8we/s...   \n",
       "4      https://www.reddit.com/r/UMD/comments/dxttl0/s...   \n",
       "...                                                  ...   \n",
       "42580  https://www.reddit.com/r/UMD/comments/cscgl/al...   \n",
       "42581  https://www.reddit.com/r/UMD/comments/cj6m4/we...   \n",
       "42582  https://www.reddit.com/r/UMD/comments/cj564/po...   \n",
       "42583  https://www.reddit.com/r/UMD/comments/cj526/po...   \n",
       "42584  http://www.umiacs.umd.edu/~odonovan/Audio_Camera/   \n",
       "\n",
       "                                                   title  \\\n",
       "0                                  Re-Leasing Apartment!   \n",
       "1                            Eduroam ACTUALLY sucks dick   \n",
       "2                               OG Legends Strikes Again   \n",
       "3                             Sustainable turtle sticker   \n",
       "4                            Spring/Summer 2020 Sublease   \n",
       "...                                                  ...   \n",
       "42580  All of you people that are ahead of me on the ...   \n",
       "42581                      Welcome to the UMD subreddit!   \n",
       "42582                              Poop? In my McKeldin?   \n",
       "42583                              Poop? In my McKeldin?   \n",
       "42584                        The Camera that Sees Sound!   \n",
       "\n",
       "                                                selftext  score   created_utc  \\\n",
       "0       Re-Leasing my room in Commons 6. Amazing room...      1  1.574036e+09   \n",
       "1      Fuck the division of IT for allowing this bull...      1  1.574035e+09   \n",
       "2                                                             4  1.574035e+09   \n",
       "3      Anyone know where I can get one of those susta...      1  1.574032e+09   \n",
       "4      I am studying abroad next semester and am look...      1  1.574030e+09   \n",
       "...                                                  ...    ...           ...   \n",
       "42580                                                         3  1.279777e+09   \n",
       "42581  Welcome to the University of Maryland subreddi...      4  1.277528e+09   \n",
       "42582  [Defecator Banned from McKeldin](http://www.di...      6  1.277516e+09   \n",
       "42583                                          [deleted]      1  1.277515e+09   \n",
       "42584                                                         3  1.277439e+09   \n",
       "\n",
       "                                               permalink link_flair_text  \\\n",
       "0            /r/UMD/comments/dxv1c4/releasing_apartment/         Housing   \n",
       "1      /r/UMD/comments/dxuxzp/eduroam_actually_sucks_...            None   \n",
       "2       /r/UMD/comments/dxuwpy/og_legends_strikes_again/      Discussion   \n",
       "3      /r/UMD/comments/dxu8we/sustainable_turtle_stic...            None   \n",
       "4      /r/UMD/comments/dxttl0/springsummer_2020_suble...         Housing   \n",
       "...                                                  ...             ...   \n",
       "42580  /r/UMD/comments/cscgl/all_of_you_people_that_a...            None   \n",
       "42581  /r/UMD/comments/cj6m4/welcome_to_the_umd_subre...            None   \n",
       "42582         /r/UMD/comments/cj564/poop_in_my_mckeldin/            None   \n",
       "42583         /r/UMD/comments/cj526/poop_in_my_mckeldin/            None   \n",
       "42584  /r/UMD/comments/citbc/the_camera_that_sees_sound/            None   \n",
       "\n",
       "                                                     doc  \\\n",
       "0      re leas apartre leas room common amaz roommat ...   \n",
       "1      eduroam actual suck dickfuck divis it allow bu...   \n",
       "2                                 og legend strike again   \n",
       "3      sustain turtl stickeranyon know i get one sust...   \n",
       "4      spring summer subleasi studi abroad next semes...   \n",
       "...                                                  ...   \n",
       "42580  all peopl ahead wait list i go need go ahead b...   \n",
       "42581  welcom umd subredditwelcom univers maryland su...   \n",
       "42582  poop in mckeldindefec ban mckeldin http www di...   \n",
       "42583                              poop in mckeldindelet   \n",
       "42584                               the camera see sound   \n",
       "\n",
       "                           class sentiment  \n",
       "0                        housing  positive  \n",
       "1                    general umd   neutral  \n",
       "2                    general umd   neutral  \n",
       "3                    general umd  positive  \n",
       "4                        housing  positive  \n",
       "...                          ...       ...  \n",
       "42580  course / campus questions  positive  \n",
       "42581          events / internet  positive  \n",
       "42582                general umd   neutral  \n",
       "42583                general umd  negative  \n",
       "42584                general umd  negative  \n",
       "\n",
       "[42585 rows x 12 columns]"
      ]
     },
     "execution_count": 45,
     "metadata": {},
     "output_type": "execute_result"
    }
   ],
   "source": [
    "sentiments = []\n",
    "\n",
    "for row in df_post.iterrows() :\n",
    "    p = classify_sentiment(row[1]['title'] + ' ' + row[1]['selftext'])\n",
    "    sentiments.append(p)\n",
    "    \n",
    "df_post['sentiment'] = sentiments\n",
    "df_post"
   ]
  },
  {
   "cell_type": "markdown",
   "metadata": {},
   "source": [
    "Now, just as before, we can create a pie chart to illustrate the sentiment distribution of r/UMD using pyplot"
   ]
  },
  {
   "cell_type": "code",
   "execution_count": 90,
   "metadata": {},
   "outputs": [],
   "source": [
    "sent_count = {'positive' : 0, 'negative' : 0, 'neutral' : 0}\n",
    "for row in df_post.iterrows() :\n",
    "    sent_count[row[1]['sentiment']] += 1"
   ]
  },
  {
   "cell_type": "code",
   "execution_count": 91,
   "metadata": {},
   "outputs": [
    {
     "data": {
      "application/vnd.plotly.v1+json": {
       "config": {
        "plotlyServerURL": "https://plot.ly"
       },
       "data": [
        {
         "domain": {
          "x": [
           0,
           1
          ],
          "y": [
           0,
           1
          ]
         },
         "hoverlabel": {
          "namelength": 0
         },
         "hovertemplate": "sentiment=%{label}<br>count=%{value}",
         "labels": [
          "positive",
          "negative",
          "neutral"
         ],
         "legendgroup": "",
         "name": "",
         "showlegend": true,
         "type": "pie",
         "values": [
          21819,
          15856,
          4910
         ]
        }
       ],
       "layout": {
        "legend": {
         "tracegroupgap": 0
        },
        "template": {
         "data": {
          "bar": [
           {
            "error_x": {
             "color": "#2a3f5f"
            },
            "error_y": {
             "color": "#2a3f5f"
            },
            "marker": {
             "line": {
              "color": "#E5ECF6",
              "width": 0.5
             }
            },
            "type": "bar"
           }
          ],
          "barpolar": [
           {
            "marker": {
             "line": {
              "color": "#E5ECF6",
              "width": 0.5
             }
            },
            "type": "barpolar"
           }
          ],
          "carpet": [
           {
            "aaxis": {
             "endlinecolor": "#2a3f5f",
             "gridcolor": "white",
             "linecolor": "white",
             "minorgridcolor": "white",
             "startlinecolor": "#2a3f5f"
            },
            "baxis": {
             "endlinecolor": "#2a3f5f",
             "gridcolor": "white",
             "linecolor": "white",
             "minorgridcolor": "white",
             "startlinecolor": "#2a3f5f"
            },
            "type": "carpet"
           }
          ],
          "choropleth": [
           {
            "colorbar": {
             "outlinewidth": 0,
             "ticks": ""
            },
            "type": "choropleth"
           }
          ],
          "contour": [
           {
            "colorbar": {
             "outlinewidth": 0,
             "ticks": ""
            },
            "colorscale": [
             [
              0,
              "#0d0887"
             ],
             [
              0.1111111111111111,
              "#46039f"
             ],
             [
              0.2222222222222222,
              "#7201a8"
             ],
             [
              0.3333333333333333,
              "#9c179e"
             ],
             [
              0.4444444444444444,
              "#bd3786"
             ],
             [
              0.5555555555555556,
              "#d8576b"
             ],
             [
              0.6666666666666666,
              "#ed7953"
             ],
             [
              0.7777777777777778,
              "#fb9f3a"
             ],
             [
              0.8888888888888888,
              "#fdca26"
             ],
             [
              1,
              "#f0f921"
             ]
            ],
            "type": "contour"
           }
          ],
          "contourcarpet": [
           {
            "colorbar": {
             "outlinewidth": 0,
             "ticks": ""
            },
            "type": "contourcarpet"
           }
          ],
          "heatmap": [
           {
            "colorbar": {
             "outlinewidth": 0,
             "ticks": ""
            },
            "colorscale": [
             [
              0,
              "#0d0887"
             ],
             [
              0.1111111111111111,
              "#46039f"
             ],
             [
              0.2222222222222222,
              "#7201a8"
             ],
             [
              0.3333333333333333,
              "#9c179e"
             ],
             [
              0.4444444444444444,
              "#bd3786"
             ],
             [
              0.5555555555555556,
              "#d8576b"
             ],
             [
              0.6666666666666666,
              "#ed7953"
             ],
             [
              0.7777777777777778,
              "#fb9f3a"
             ],
             [
              0.8888888888888888,
              "#fdca26"
             ],
             [
              1,
              "#f0f921"
             ]
            ],
            "type": "heatmap"
           }
          ],
          "heatmapgl": [
           {
            "colorbar": {
             "outlinewidth": 0,
             "ticks": ""
            },
            "colorscale": [
             [
              0,
              "#0d0887"
             ],
             [
              0.1111111111111111,
              "#46039f"
             ],
             [
              0.2222222222222222,
              "#7201a8"
             ],
             [
              0.3333333333333333,
              "#9c179e"
             ],
             [
              0.4444444444444444,
              "#bd3786"
             ],
             [
              0.5555555555555556,
              "#d8576b"
             ],
             [
              0.6666666666666666,
              "#ed7953"
             ],
             [
              0.7777777777777778,
              "#fb9f3a"
             ],
             [
              0.8888888888888888,
              "#fdca26"
             ],
             [
              1,
              "#f0f921"
             ]
            ],
            "type": "heatmapgl"
           }
          ],
          "histogram": [
           {
            "marker": {
             "colorbar": {
              "outlinewidth": 0,
              "ticks": ""
             }
            },
            "type": "histogram"
           }
          ],
          "histogram2d": [
           {
            "colorbar": {
             "outlinewidth": 0,
             "ticks": ""
            },
            "colorscale": [
             [
              0,
              "#0d0887"
             ],
             [
              0.1111111111111111,
              "#46039f"
             ],
             [
              0.2222222222222222,
              "#7201a8"
             ],
             [
              0.3333333333333333,
              "#9c179e"
             ],
             [
              0.4444444444444444,
              "#bd3786"
             ],
             [
              0.5555555555555556,
              "#d8576b"
             ],
             [
              0.6666666666666666,
              "#ed7953"
             ],
             [
              0.7777777777777778,
              "#fb9f3a"
             ],
             [
              0.8888888888888888,
              "#fdca26"
             ],
             [
              1,
              "#f0f921"
             ]
            ],
            "type": "histogram2d"
           }
          ],
          "histogram2dcontour": [
           {
            "colorbar": {
             "outlinewidth": 0,
             "ticks": ""
            },
            "colorscale": [
             [
              0,
              "#0d0887"
             ],
             [
              0.1111111111111111,
              "#46039f"
             ],
             [
              0.2222222222222222,
              "#7201a8"
             ],
             [
              0.3333333333333333,
              "#9c179e"
             ],
             [
              0.4444444444444444,
              "#bd3786"
             ],
             [
              0.5555555555555556,
              "#d8576b"
             ],
             [
              0.6666666666666666,
              "#ed7953"
             ],
             [
              0.7777777777777778,
              "#fb9f3a"
             ],
             [
              0.8888888888888888,
              "#fdca26"
             ],
             [
              1,
              "#f0f921"
             ]
            ],
            "type": "histogram2dcontour"
           }
          ],
          "mesh3d": [
           {
            "colorbar": {
             "outlinewidth": 0,
             "ticks": ""
            },
            "type": "mesh3d"
           }
          ],
          "parcoords": [
           {
            "line": {
             "colorbar": {
              "outlinewidth": 0,
              "ticks": ""
             }
            },
            "type": "parcoords"
           }
          ],
          "pie": [
           {
            "automargin": true,
            "type": "pie"
           }
          ],
          "scatter": [
           {
            "marker": {
             "colorbar": {
              "outlinewidth": 0,
              "ticks": ""
             }
            },
            "type": "scatter"
           }
          ],
          "scatter3d": [
           {
            "line": {
             "colorbar": {
              "outlinewidth": 0,
              "ticks": ""
             }
            },
            "marker": {
             "colorbar": {
              "outlinewidth": 0,
              "ticks": ""
             }
            },
            "type": "scatter3d"
           }
          ],
          "scattercarpet": [
           {
            "marker": {
             "colorbar": {
              "outlinewidth": 0,
              "ticks": ""
             }
            },
            "type": "scattercarpet"
           }
          ],
          "scattergeo": [
           {
            "marker": {
             "colorbar": {
              "outlinewidth": 0,
              "ticks": ""
             }
            },
            "type": "scattergeo"
           }
          ],
          "scattergl": [
           {
            "marker": {
             "colorbar": {
              "outlinewidth": 0,
              "ticks": ""
             }
            },
            "type": "scattergl"
           }
          ],
          "scattermapbox": [
           {
            "marker": {
             "colorbar": {
              "outlinewidth": 0,
              "ticks": ""
             }
            },
            "type": "scattermapbox"
           }
          ],
          "scatterpolar": [
           {
            "marker": {
             "colorbar": {
              "outlinewidth": 0,
              "ticks": ""
             }
            },
            "type": "scatterpolar"
           }
          ],
          "scatterpolargl": [
           {
            "marker": {
             "colorbar": {
              "outlinewidth": 0,
              "ticks": ""
             }
            },
            "type": "scatterpolargl"
           }
          ],
          "scatterternary": [
           {
            "marker": {
             "colorbar": {
              "outlinewidth": 0,
              "ticks": ""
             }
            },
            "type": "scatterternary"
           }
          ],
          "surface": [
           {
            "colorbar": {
             "outlinewidth": 0,
             "ticks": ""
            },
            "colorscale": [
             [
              0,
              "#0d0887"
             ],
             [
              0.1111111111111111,
              "#46039f"
             ],
             [
              0.2222222222222222,
              "#7201a8"
             ],
             [
              0.3333333333333333,
              "#9c179e"
             ],
             [
              0.4444444444444444,
              "#bd3786"
             ],
             [
              0.5555555555555556,
              "#d8576b"
             ],
             [
              0.6666666666666666,
              "#ed7953"
             ],
             [
              0.7777777777777778,
              "#fb9f3a"
             ],
             [
              0.8888888888888888,
              "#fdca26"
             ],
             [
              1,
              "#f0f921"
             ]
            ],
            "type": "surface"
           }
          ],
          "table": [
           {
            "cells": {
             "fill": {
              "color": "#EBF0F8"
             },
             "line": {
              "color": "white"
             }
            },
            "header": {
             "fill": {
              "color": "#C8D4E3"
             },
             "line": {
              "color": "white"
             }
            },
            "type": "table"
           }
          ]
         },
         "layout": {
          "annotationdefaults": {
           "arrowcolor": "#2a3f5f",
           "arrowhead": 0,
           "arrowwidth": 1
          },
          "coloraxis": {
           "colorbar": {
            "outlinewidth": 0,
            "ticks": ""
           }
          },
          "colorscale": {
           "diverging": [
            [
             0,
             "#8e0152"
            ],
            [
             0.1,
             "#c51b7d"
            ],
            [
             0.2,
             "#de77ae"
            ],
            [
             0.3,
             "#f1b6da"
            ],
            [
             0.4,
             "#fde0ef"
            ],
            [
             0.5,
             "#f7f7f7"
            ],
            [
             0.6,
             "#e6f5d0"
            ],
            [
             0.7,
             "#b8e186"
            ],
            [
             0.8,
             "#7fbc41"
            ],
            [
             0.9,
             "#4d9221"
            ],
            [
             1,
             "#276419"
            ]
           ],
           "sequential": [
            [
             0,
             "#0d0887"
            ],
            [
             0.1111111111111111,
             "#46039f"
            ],
            [
             0.2222222222222222,
             "#7201a8"
            ],
            [
             0.3333333333333333,
             "#9c179e"
            ],
            [
             0.4444444444444444,
             "#bd3786"
            ],
            [
             0.5555555555555556,
             "#d8576b"
            ],
            [
             0.6666666666666666,
             "#ed7953"
            ],
            [
             0.7777777777777778,
             "#fb9f3a"
            ],
            [
             0.8888888888888888,
             "#fdca26"
            ],
            [
             1,
             "#f0f921"
            ]
           ],
           "sequentialminus": [
            [
             0,
             "#0d0887"
            ],
            [
             0.1111111111111111,
             "#46039f"
            ],
            [
             0.2222222222222222,
             "#7201a8"
            ],
            [
             0.3333333333333333,
             "#9c179e"
            ],
            [
             0.4444444444444444,
             "#bd3786"
            ],
            [
             0.5555555555555556,
             "#d8576b"
            ],
            [
             0.6666666666666666,
             "#ed7953"
            ],
            [
             0.7777777777777778,
             "#fb9f3a"
            ],
            [
             0.8888888888888888,
             "#fdca26"
            ],
            [
             1,
             "#f0f921"
            ]
           ]
          },
          "colorway": [
           "#636efa",
           "#EF553B",
           "#00cc96",
           "#ab63fa",
           "#FFA15A",
           "#19d3f3",
           "#FF6692",
           "#B6E880",
           "#FF97FF",
           "#FECB52"
          ],
          "font": {
           "color": "#2a3f5f"
          },
          "geo": {
           "bgcolor": "white",
           "lakecolor": "white",
           "landcolor": "#E5ECF6",
           "showlakes": true,
           "showland": true,
           "subunitcolor": "white"
          },
          "hoverlabel": {
           "align": "left"
          },
          "hovermode": "closest",
          "mapbox": {
           "style": "light"
          },
          "paper_bgcolor": "white",
          "plot_bgcolor": "#E5ECF6",
          "polar": {
           "angularaxis": {
            "gridcolor": "white",
            "linecolor": "white",
            "ticks": ""
           },
           "bgcolor": "#E5ECF6",
           "radialaxis": {
            "gridcolor": "white",
            "linecolor": "white",
            "ticks": ""
           }
          },
          "scene": {
           "xaxis": {
            "backgroundcolor": "#E5ECF6",
            "gridcolor": "white",
            "gridwidth": 2,
            "linecolor": "white",
            "showbackground": true,
            "ticks": "",
            "zerolinecolor": "white"
           },
           "yaxis": {
            "backgroundcolor": "#E5ECF6",
            "gridcolor": "white",
            "gridwidth": 2,
            "linecolor": "white",
            "showbackground": true,
            "ticks": "",
            "zerolinecolor": "white"
           },
           "zaxis": {
            "backgroundcolor": "#E5ECF6",
            "gridcolor": "white",
            "gridwidth": 2,
            "linecolor": "white",
            "showbackground": true,
            "ticks": "",
            "zerolinecolor": "white"
           }
          },
          "shapedefaults": {
           "line": {
            "color": "#2a3f5f"
           }
          },
          "ternary": {
           "aaxis": {
            "gridcolor": "white",
            "linecolor": "white",
            "ticks": ""
           },
           "baxis": {
            "gridcolor": "white",
            "linecolor": "white",
            "ticks": ""
           },
           "bgcolor": "#E5ECF6",
           "caxis": {
            "gridcolor": "white",
            "linecolor": "white",
            "ticks": ""
           }
          },
          "title": {
           "x": 0.05
          },
          "xaxis": {
           "automargin": true,
           "gridcolor": "white",
           "linecolor": "white",
           "ticks": "",
           "title": {
            "standoff": 15
           },
           "zerolinecolor": "white",
           "zerolinewidth": 2
          },
          "yaxis": {
           "automargin": true,
           "gridcolor": "white",
           "linecolor": "white",
           "ticks": "",
           "title": {
            "standoff": 15
           },
           "zerolinecolor": "white",
           "zerolinewidth": 2
          }
         }
        },
        "title": {
         "text": "Sentiment of r/UMD Posts by Percent"
        }
       }
      },
      "text/html": [
       "<div>\n",
       "        \n",
       "        \n",
       "            <div id=\"95479e39-74f6-4f4b-9abf-e840507be8d2\" class=\"plotly-graph-div\" style=\"height:525px; width:100%;\"></div>\n",
       "            <script type=\"text/javascript\">\n",
       "                require([\"plotly\"], function(Plotly) {\n",
       "                    window.PLOTLYENV=window.PLOTLYENV || {};\n",
       "                    \n",
       "                if (document.getElementById(\"95479e39-74f6-4f4b-9abf-e840507be8d2\")) {\n",
       "                    Plotly.newPlot(\n",
       "                        '95479e39-74f6-4f4b-9abf-e840507be8d2',\n",
       "                        [{\"domain\": {\"x\": [0.0, 1.0], \"y\": [0.0, 1.0]}, \"hoverlabel\": {\"namelength\": 0}, \"hovertemplate\": \"sentiment=%{label}<br>count=%{value}\", \"labels\": [\"positive\", \"negative\", \"neutral\"], \"legendgroup\": \"\", \"name\": \"\", \"showlegend\": true, \"type\": \"pie\", \"values\": [21819, 15856, 4910]}],\n",
       "                        {\"legend\": {\"tracegroupgap\": 0}, \"template\": {\"data\": {\"bar\": [{\"error_x\": {\"color\": \"#2a3f5f\"}, \"error_y\": {\"color\": \"#2a3f5f\"}, \"marker\": {\"line\": {\"color\": \"#E5ECF6\", \"width\": 0.5}}, \"type\": \"bar\"}], \"barpolar\": [{\"marker\": {\"line\": {\"color\": \"#E5ECF6\", \"width\": 0.5}}, \"type\": \"barpolar\"}], \"carpet\": [{\"aaxis\": {\"endlinecolor\": \"#2a3f5f\", \"gridcolor\": \"white\", \"linecolor\": \"white\", \"minorgridcolor\": \"white\", \"startlinecolor\": \"#2a3f5f\"}, \"baxis\": {\"endlinecolor\": \"#2a3f5f\", \"gridcolor\": \"white\", \"linecolor\": \"white\", \"minorgridcolor\": \"white\", \"startlinecolor\": \"#2a3f5f\"}, \"type\": \"carpet\"}], \"choropleth\": [{\"colorbar\": {\"outlinewidth\": 0, \"ticks\": \"\"}, \"type\": \"choropleth\"}], \"contour\": [{\"colorbar\": {\"outlinewidth\": 0, \"ticks\": \"\"}, \"colorscale\": [[0.0, \"#0d0887\"], [0.1111111111111111, \"#46039f\"], [0.2222222222222222, \"#7201a8\"], [0.3333333333333333, \"#9c179e\"], [0.4444444444444444, \"#bd3786\"], [0.5555555555555556, \"#d8576b\"], [0.6666666666666666, \"#ed7953\"], [0.7777777777777778, \"#fb9f3a\"], [0.8888888888888888, \"#fdca26\"], [1.0, \"#f0f921\"]], \"type\": \"contour\"}], \"contourcarpet\": [{\"colorbar\": {\"outlinewidth\": 0, \"ticks\": \"\"}, \"type\": \"contourcarpet\"}], \"heatmap\": [{\"colorbar\": {\"outlinewidth\": 0, \"ticks\": \"\"}, \"colorscale\": [[0.0, \"#0d0887\"], [0.1111111111111111, \"#46039f\"], [0.2222222222222222, \"#7201a8\"], [0.3333333333333333, \"#9c179e\"], [0.4444444444444444, \"#bd3786\"], [0.5555555555555556, \"#d8576b\"], [0.6666666666666666, \"#ed7953\"], [0.7777777777777778, \"#fb9f3a\"], [0.8888888888888888, \"#fdca26\"], [1.0, \"#f0f921\"]], \"type\": \"heatmap\"}], \"heatmapgl\": [{\"colorbar\": {\"outlinewidth\": 0, \"ticks\": \"\"}, \"colorscale\": [[0.0, \"#0d0887\"], [0.1111111111111111, \"#46039f\"], [0.2222222222222222, \"#7201a8\"], [0.3333333333333333, \"#9c179e\"], [0.4444444444444444, \"#bd3786\"], [0.5555555555555556, \"#d8576b\"], [0.6666666666666666, \"#ed7953\"], [0.7777777777777778, \"#fb9f3a\"], [0.8888888888888888, \"#fdca26\"], [1.0, \"#f0f921\"]], \"type\": \"heatmapgl\"}], \"histogram\": [{\"marker\": {\"colorbar\": {\"outlinewidth\": 0, \"ticks\": \"\"}}, \"type\": \"histogram\"}], \"histogram2d\": [{\"colorbar\": {\"outlinewidth\": 0, \"ticks\": \"\"}, \"colorscale\": [[0.0, \"#0d0887\"], [0.1111111111111111, \"#46039f\"], [0.2222222222222222, \"#7201a8\"], [0.3333333333333333, \"#9c179e\"], [0.4444444444444444, \"#bd3786\"], [0.5555555555555556, \"#d8576b\"], [0.6666666666666666, \"#ed7953\"], [0.7777777777777778, \"#fb9f3a\"], [0.8888888888888888, \"#fdca26\"], [1.0, \"#f0f921\"]], \"type\": \"histogram2d\"}], \"histogram2dcontour\": [{\"colorbar\": {\"outlinewidth\": 0, \"ticks\": \"\"}, \"colorscale\": [[0.0, \"#0d0887\"], [0.1111111111111111, \"#46039f\"], [0.2222222222222222, \"#7201a8\"], [0.3333333333333333, \"#9c179e\"], [0.4444444444444444, \"#bd3786\"], [0.5555555555555556, \"#d8576b\"], [0.6666666666666666, \"#ed7953\"], [0.7777777777777778, \"#fb9f3a\"], [0.8888888888888888, \"#fdca26\"], [1.0, \"#f0f921\"]], \"type\": \"histogram2dcontour\"}], \"mesh3d\": [{\"colorbar\": {\"outlinewidth\": 0, \"ticks\": \"\"}, \"type\": \"mesh3d\"}], \"parcoords\": [{\"line\": {\"colorbar\": {\"outlinewidth\": 0, \"ticks\": \"\"}}, \"type\": \"parcoords\"}], \"pie\": [{\"automargin\": true, \"type\": \"pie\"}], \"scatter\": [{\"marker\": {\"colorbar\": {\"outlinewidth\": 0, \"ticks\": \"\"}}, \"type\": \"scatter\"}], \"scatter3d\": [{\"line\": {\"colorbar\": {\"outlinewidth\": 0, \"ticks\": \"\"}}, \"marker\": {\"colorbar\": {\"outlinewidth\": 0, \"ticks\": \"\"}}, \"type\": \"scatter3d\"}], \"scattercarpet\": [{\"marker\": {\"colorbar\": {\"outlinewidth\": 0, \"ticks\": \"\"}}, \"type\": \"scattercarpet\"}], \"scattergeo\": [{\"marker\": {\"colorbar\": {\"outlinewidth\": 0, \"ticks\": \"\"}}, \"type\": \"scattergeo\"}], \"scattergl\": [{\"marker\": {\"colorbar\": {\"outlinewidth\": 0, \"ticks\": \"\"}}, \"type\": \"scattergl\"}], \"scattermapbox\": [{\"marker\": {\"colorbar\": {\"outlinewidth\": 0, \"ticks\": \"\"}}, \"type\": \"scattermapbox\"}], \"scatterpolar\": [{\"marker\": {\"colorbar\": {\"outlinewidth\": 0, \"ticks\": \"\"}}, \"type\": \"scatterpolar\"}], \"scatterpolargl\": [{\"marker\": {\"colorbar\": {\"outlinewidth\": 0, \"ticks\": \"\"}}, \"type\": \"scatterpolargl\"}], \"scatterternary\": [{\"marker\": {\"colorbar\": {\"outlinewidth\": 0, \"ticks\": \"\"}}, \"type\": \"scatterternary\"}], \"surface\": [{\"colorbar\": {\"outlinewidth\": 0, \"ticks\": \"\"}, \"colorscale\": [[0.0, \"#0d0887\"], [0.1111111111111111, \"#46039f\"], [0.2222222222222222, \"#7201a8\"], [0.3333333333333333, \"#9c179e\"], [0.4444444444444444, \"#bd3786\"], [0.5555555555555556, \"#d8576b\"], [0.6666666666666666, \"#ed7953\"], [0.7777777777777778, \"#fb9f3a\"], [0.8888888888888888, \"#fdca26\"], [1.0, \"#f0f921\"]], \"type\": \"surface\"}], \"table\": [{\"cells\": {\"fill\": {\"color\": \"#EBF0F8\"}, \"line\": {\"color\": \"white\"}}, \"header\": {\"fill\": {\"color\": \"#C8D4E3\"}, \"line\": {\"color\": \"white\"}}, \"type\": \"table\"}]}, \"layout\": {\"annotationdefaults\": {\"arrowcolor\": \"#2a3f5f\", \"arrowhead\": 0, \"arrowwidth\": 1}, \"coloraxis\": {\"colorbar\": {\"outlinewidth\": 0, \"ticks\": \"\"}}, \"colorscale\": {\"diverging\": [[0, \"#8e0152\"], [0.1, \"#c51b7d\"], [0.2, \"#de77ae\"], [0.3, \"#f1b6da\"], [0.4, \"#fde0ef\"], [0.5, \"#f7f7f7\"], [0.6, \"#e6f5d0\"], [0.7, \"#b8e186\"], [0.8, \"#7fbc41\"], [0.9, \"#4d9221\"], [1, \"#276419\"]], \"sequential\": [[0.0, \"#0d0887\"], [0.1111111111111111, \"#46039f\"], [0.2222222222222222, \"#7201a8\"], [0.3333333333333333, \"#9c179e\"], [0.4444444444444444, \"#bd3786\"], [0.5555555555555556, \"#d8576b\"], [0.6666666666666666, \"#ed7953\"], [0.7777777777777778, \"#fb9f3a\"], [0.8888888888888888, \"#fdca26\"], [1.0, \"#f0f921\"]], \"sequentialminus\": [[0.0, \"#0d0887\"], [0.1111111111111111, \"#46039f\"], [0.2222222222222222, \"#7201a8\"], [0.3333333333333333, \"#9c179e\"], [0.4444444444444444, \"#bd3786\"], [0.5555555555555556, \"#d8576b\"], [0.6666666666666666, \"#ed7953\"], [0.7777777777777778, \"#fb9f3a\"], [0.8888888888888888, \"#fdca26\"], [1.0, \"#f0f921\"]]}, \"colorway\": [\"#636efa\", \"#EF553B\", \"#00cc96\", \"#ab63fa\", \"#FFA15A\", \"#19d3f3\", \"#FF6692\", \"#B6E880\", \"#FF97FF\", \"#FECB52\"], \"font\": {\"color\": \"#2a3f5f\"}, \"geo\": {\"bgcolor\": \"white\", \"lakecolor\": \"white\", \"landcolor\": \"#E5ECF6\", \"showlakes\": true, \"showland\": true, \"subunitcolor\": \"white\"}, \"hoverlabel\": {\"align\": \"left\"}, \"hovermode\": \"closest\", \"mapbox\": {\"style\": \"light\"}, \"paper_bgcolor\": \"white\", \"plot_bgcolor\": \"#E5ECF6\", \"polar\": {\"angularaxis\": {\"gridcolor\": \"white\", \"linecolor\": \"white\", \"ticks\": \"\"}, \"bgcolor\": \"#E5ECF6\", \"radialaxis\": {\"gridcolor\": \"white\", \"linecolor\": \"white\", \"ticks\": \"\"}}, \"scene\": {\"xaxis\": {\"backgroundcolor\": \"#E5ECF6\", \"gridcolor\": \"white\", \"gridwidth\": 2, \"linecolor\": \"white\", \"showbackground\": true, \"ticks\": \"\", \"zerolinecolor\": \"white\"}, \"yaxis\": {\"backgroundcolor\": \"#E5ECF6\", \"gridcolor\": \"white\", \"gridwidth\": 2, \"linecolor\": \"white\", \"showbackground\": true, \"ticks\": \"\", \"zerolinecolor\": \"white\"}, \"zaxis\": {\"backgroundcolor\": \"#E5ECF6\", \"gridcolor\": \"white\", \"gridwidth\": 2, \"linecolor\": \"white\", \"showbackground\": true, \"ticks\": \"\", \"zerolinecolor\": \"white\"}}, \"shapedefaults\": {\"line\": {\"color\": \"#2a3f5f\"}}, \"ternary\": {\"aaxis\": {\"gridcolor\": \"white\", \"linecolor\": \"white\", \"ticks\": \"\"}, \"baxis\": {\"gridcolor\": \"white\", \"linecolor\": \"white\", \"ticks\": \"\"}, \"bgcolor\": \"#E5ECF6\", \"caxis\": {\"gridcolor\": \"white\", \"linecolor\": \"white\", \"ticks\": \"\"}}, \"title\": {\"x\": 0.05}, \"xaxis\": {\"automargin\": true, \"gridcolor\": \"white\", \"linecolor\": \"white\", \"ticks\": \"\", \"title\": {\"standoff\": 15}, \"zerolinecolor\": \"white\", \"zerolinewidth\": 2}, \"yaxis\": {\"automargin\": true, \"gridcolor\": \"white\", \"linecolor\": \"white\", \"ticks\": \"\", \"title\": {\"standoff\": 15}, \"zerolinecolor\": \"white\", \"zerolinewidth\": 2}}}, \"title\": {\"text\": \"Sentiment of r/UMD Posts by Percent\"}},\n",
       "                        {\"responsive\": true}\n",
       "                    ).then(function(){\n",
       "                            \n",
       "var gd = document.getElementById('95479e39-74f6-4f4b-9abf-e840507be8d2');\n",
       "var x = new MutationObserver(function (mutations, observer) {{\n",
       "        var display = window.getComputedStyle(gd).display;\n",
       "        if (!display || display === 'none') {{\n",
       "            console.log([gd, 'removed!']);\n",
       "            Plotly.purge(gd);\n",
       "            observer.disconnect();\n",
       "        }}\n",
       "}});\n",
       "\n",
       "// Listen for the removal of the full notebook cells\n",
       "var notebookContainer = gd.closest('#notebook-container');\n",
       "if (notebookContainer) {{\n",
       "    x.observe(notebookContainer, {childList: true});\n",
       "}}\n",
       "\n",
       "// Listen for the clearing of the current output cell\n",
       "var outputEl = gd.closest('.output');\n",
       "if (outputEl) {{\n",
       "    x.observe(outputEl, {childList: true});\n",
       "}}\n",
       "\n",
       "                        })\n",
       "                };\n",
       "                });\n",
       "            </script>\n",
       "        </div>"
      ]
     },
     "metadata": {},
     "output_type": "display_data"
    }
   ],
   "source": [
    "df_temp = pd.DataFrame()\n",
    "df_temp['sentiment'] = sent_count.keys()\n",
    "df_temp['count'] = sent_count.values()\n",
    "fig = px.pie(df_temp, values = 'count', names='sentiment', title='Sentiment of r/UMD Posts by Percent')\n",
    "fig.show()"
   ]
  },
  {
   "cell_type": "markdown",
   "metadata": {},
   "source": [
    "We could easily stop there, but since it was so straightforward to perform a sentiment analysis on the posts, I am going to do the same process for the comments."
   ]
  },
  {
   "cell_type": "code",
   "execution_count": 47,
   "metadata": {},
   "outputs": [
    {
     "data": {
      "text/html": [
       "<div>\n",
       "<style scoped>\n",
       "    .dataframe tbody tr th:only-of-type {\n",
       "        vertical-align: middle;\n",
       "    }\n",
       "\n",
       "    .dataframe tbody tr th {\n",
       "        vertical-align: top;\n",
       "    }\n",
       "\n",
       "    .dataframe thead th {\n",
       "        text-align: right;\n",
       "    }\n",
       "</style>\n",
       "<table border=\"1\" class=\"dataframe\">\n",
       "  <thead>\n",
       "    <tr style=\"text-align: right;\">\n",
       "      <th></th>\n",
       "      <th>id</th>\n",
       "      <th>name</th>\n",
       "      <th>body</th>\n",
       "      <th>score</th>\n",
       "      <th>parent_id</th>\n",
       "      <th>link_id</th>\n",
       "      <th>created_utc</th>\n",
       "    </tr>\n",
       "  </thead>\n",
       "  <tbody>\n",
       "    <tr>\n",
       "      <th>0</th>\n",
       "      <td>f7wxk0a</td>\n",
       "      <td>DeltaHex106</td>\n",
       "      <td>lol nooiiiccee.</td>\n",
       "      <td>4</td>\n",
       "      <td>t3_dxuwpy</td>\n",
       "      <td>t3_dxuwpy</td>\n",
       "      <td>1.574041e+09</td>\n",
       "    </tr>\n",
       "    <tr>\n",
       "      <th>1</th>\n",
       "      <td>f7x0i9l</td>\n",
       "      <td>The_Joker_07</td>\n",
       "      <td>It says occurred on October 17, what????</td>\n",
       "      <td>1</td>\n",
       "      <td>t3_dxuwpy</td>\n",
       "      <td>t3_dxuwpy</td>\n",
       "      <td>1.574043e+09</td>\n",
       "    </tr>\n",
       "    <tr>\n",
       "      <th>2</th>\n",
       "      <td>f7x0mwv</td>\n",
       "      <td>YaBoiAtUMD</td>\n",
       "      <td>💀💀💀</td>\n",
       "      <td>1</td>\n",
       "      <td>t3_dxuwpy</td>\n",
       "      <td>t3_dxuwpy</td>\n",
       "      <td>1.574043e+09</td>\n",
       "    </tr>\n",
       "    <tr>\n",
       "      <th>3</th>\n",
       "      <td>f7w5tlk</td>\n",
       "      <td>Thedaniel4999</td>\n",
       "      <td>I never had Dixon but can confirm that Stocker...</td>\n",
       "      <td>1</td>\n",
       "      <td>t3_dxtdkl</td>\n",
       "      <td>t3_dxtdkl</td>\n",
       "      <td>1.574030e+09</td>\n",
       "    </tr>\n",
       "    <tr>\n",
       "      <th>4</th>\n",
       "      <td>f7w95pd</td>\n",
       "      <td>lordkaramat</td>\n",
       "      <td>Yea, you need to show a student ID when you ge...</td>\n",
       "      <td>4</td>\n",
       "      <td>t3_dxt72p</td>\n",
       "      <td>t3_dxt72p</td>\n",
       "      <td>1.574031e+09</td>\n",
       "    </tr>\n",
       "  </tbody>\n",
       "</table>\n",
       "</div>"
      ],
      "text/plain": [
       "        id           name                                               body  \\\n",
       "0  f7wxk0a    DeltaHex106                                    lol nooiiiccee.   \n",
       "1  f7x0i9l   The_Joker_07           It says occurred on October 17, what????   \n",
       "2  f7x0mwv     YaBoiAtUMD                                                💀💀💀   \n",
       "3  f7w5tlk  Thedaniel4999  I never had Dixon but can confirm that Stocker...   \n",
       "4  f7w95pd    lordkaramat  Yea, you need to show a student ID when you ge...   \n",
       "\n",
       "   score  parent_id    link_id   created_utc  \n",
       "0      4  t3_dxuwpy  t3_dxuwpy  1.574041e+09  \n",
       "1      1  t3_dxuwpy  t3_dxuwpy  1.574043e+09  \n",
       "2      1  t3_dxuwpy  t3_dxuwpy  1.574043e+09  \n",
       "3      1  t3_dxtdkl  t3_dxtdkl  1.574030e+09  \n",
       "4      4  t3_dxt72p  t3_dxt72p  1.574031e+09  "
      ]
     },
     "execution_count": 47,
     "metadata": {},
     "output_type": "execute_result"
    }
   ],
   "source": [
    "df_comment = pd.read_sql('SELECT * FROM comment', conn)\n",
    "df_comment.head()"
   ]
  },
  {
   "cell_type": "code",
   "execution_count": 52,
   "metadata": {},
   "outputs": [],
   "source": [
    "sentiments = []\n",
    "for row in df_comment.iterrows() :\n",
    "    p = classify_sentiment(row[1]['body'])\n",
    "    sentiments.append(p)\n",
    "    \n",
    "df_comment['sentiment'] = sentiments"
   ]
  },
  {
   "cell_type": "code",
   "execution_count": 56,
   "metadata": {},
   "outputs": [],
   "source": [
    "sent_count = {'positive' : 0, 'negative' : 0, 'neutral' : 0}\n",
    "for row in df_comment.iterrows() :\n",
    "    sent_count[row[1]['sentiment']] += 1"
   ]
  },
  {
   "cell_type": "code",
   "execution_count": 92,
   "metadata": {},
   "outputs": [
    {
     "data": {
      "application/vnd.plotly.v1+json": {
       "config": {
        "plotlyServerURL": "https://plot.ly"
       },
       "data": [
        {
         "domain": {
          "x": [
           0,
           1
          ],
          "y": [
           0,
           1
          ]
         },
         "hoverlabel": {
          "namelength": 0
         },
         "hovertemplate": "sentiment=%{label}<br>count=%{value}",
         "labels": [
          "positive",
          "negative",
          "neutral"
         ],
         "legendgroup": "",
         "name": "",
         "showlegend": true,
         "type": "pie",
         "values": [
          21819,
          15856,
          4910
         ]
        }
       ],
       "layout": {
        "legend": {
         "tracegroupgap": 0
        },
        "template": {
         "data": {
          "bar": [
           {
            "error_x": {
             "color": "#2a3f5f"
            },
            "error_y": {
             "color": "#2a3f5f"
            },
            "marker": {
             "line": {
              "color": "#E5ECF6",
              "width": 0.5
             }
            },
            "type": "bar"
           }
          ],
          "barpolar": [
           {
            "marker": {
             "line": {
              "color": "#E5ECF6",
              "width": 0.5
             }
            },
            "type": "barpolar"
           }
          ],
          "carpet": [
           {
            "aaxis": {
             "endlinecolor": "#2a3f5f",
             "gridcolor": "white",
             "linecolor": "white",
             "minorgridcolor": "white",
             "startlinecolor": "#2a3f5f"
            },
            "baxis": {
             "endlinecolor": "#2a3f5f",
             "gridcolor": "white",
             "linecolor": "white",
             "minorgridcolor": "white",
             "startlinecolor": "#2a3f5f"
            },
            "type": "carpet"
           }
          ],
          "choropleth": [
           {
            "colorbar": {
             "outlinewidth": 0,
             "ticks": ""
            },
            "type": "choropleth"
           }
          ],
          "contour": [
           {
            "colorbar": {
             "outlinewidth": 0,
             "ticks": ""
            },
            "colorscale": [
             [
              0,
              "#0d0887"
             ],
             [
              0.1111111111111111,
              "#46039f"
             ],
             [
              0.2222222222222222,
              "#7201a8"
             ],
             [
              0.3333333333333333,
              "#9c179e"
             ],
             [
              0.4444444444444444,
              "#bd3786"
             ],
             [
              0.5555555555555556,
              "#d8576b"
             ],
             [
              0.6666666666666666,
              "#ed7953"
             ],
             [
              0.7777777777777778,
              "#fb9f3a"
             ],
             [
              0.8888888888888888,
              "#fdca26"
             ],
             [
              1,
              "#f0f921"
             ]
            ],
            "type": "contour"
           }
          ],
          "contourcarpet": [
           {
            "colorbar": {
             "outlinewidth": 0,
             "ticks": ""
            },
            "type": "contourcarpet"
           }
          ],
          "heatmap": [
           {
            "colorbar": {
             "outlinewidth": 0,
             "ticks": ""
            },
            "colorscale": [
             [
              0,
              "#0d0887"
             ],
             [
              0.1111111111111111,
              "#46039f"
             ],
             [
              0.2222222222222222,
              "#7201a8"
             ],
             [
              0.3333333333333333,
              "#9c179e"
             ],
             [
              0.4444444444444444,
              "#bd3786"
             ],
             [
              0.5555555555555556,
              "#d8576b"
             ],
             [
              0.6666666666666666,
              "#ed7953"
             ],
             [
              0.7777777777777778,
              "#fb9f3a"
             ],
             [
              0.8888888888888888,
              "#fdca26"
             ],
             [
              1,
              "#f0f921"
             ]
            ],
            "type": "heatmap"
           }
          ],
          "heatmapgl": [
           {
            "colorbar": {
             "outlinewidth": 0,
             "ticks": ""
            },
            "colorscale": [
             [
              0,
              "#0d0887"
             ],
             [
              0.1111111111111111,
              "#46039f"
             ],
             [
              0.2222222222222222,
              "#7201a8"
             ],
             [
              0.3333333333333333,
              "#9c179e"
             ],
             [
              0.4444444444444444,
              "#bd3786"
             ],
             [
              0.5555555555555556,
              "#d8576b"
             ],
             [
              0.6666666666666666,
              "#ed7953"
             ],
             [
              0.7777777777777778,
              "#fb9f3a"
             ],
             [
              0.8888888888888888,
              "#fdca26"
             ],
             [
              1,
              "#f0f921"
             ]
            ],
            "type": "heatmapgl"
           }
          ],
          "histogram": [
           {
            "marker": {
             "colorbar": {
              "outlinewidth": 0,
              "ticks": ""
             }
            },
            "type": "histogram"
           }
          ],
          "histogram2d": [
           {
            "colorbar": {
             "outlinewidth": 0,
             "ticks": ""
            },
            "colorscale": [
             [
              0,
              "#0d0887"
             ],
             [
              0.1111111111111111,
              "#46039f"
             ],
             [
              0.2222222222222222,
              "#7201a8"
             ],
             [
              0.3333333333333333,
              "#9c179e"
             ],
             [
              0.4444444444444444,
              "#bd3786"
             ],
             [
              0.5555555555555556,
              "#d8576b"
             ],
             [
              0.6666666666666666,
              "#ed7953"
             ],
             [
              0.7777777777777778,
              "#fb9f3a"
             ],
             [
              0.8888888888888888,
              "#fdca26"
             ],
             [
              1,
              "#f0f921"
             ]
            ],
            "type": "histogram2d"
           }
          ],
          "histogram2dcontour": [
           {
            "colorbar": {
             "outlinewidth": 0,
             "ticks": ""
            },
            "colorscale": [
             [
              0,
              "#0d0887"
             ],
             [
              0.1111111111111111,
              "#46039f"
             ],
             [
              0.2222222222222222,
              "#7201a8"
             ],
             [
              0.3333333333333333,
              "#9c179e"
             ],
             [
              0.4444444444444444,
              "#bd3786"
             ],
             [
              0.5555555555555556,
              "#d8576b"
             ],
             [
              0.6666666666666666,
              "#ed7953"
             ],
             [
              0.7777777777777778,
              "#fb9f3a"
             ],
             [
              0.8888888888888888,
              "#fdca26"
             ],
             [
              1,
              "#f0f921"
             ]
            ],
            "type": "histogram2dcontour"
           }
          ],
          "mesh3d": [
           {
            "colorbar": {
             "outlinewidth": 0,
             "ticks": ""
            },
            "type": "mesh3d"
           }
          ],
          "parcoords": [
           {
            "line": {
             "colorbar": {
              "outlinewidth": 0,
              "ticks": ""
             }
            },
            "type": "parcoords"
           }
          ],
          "pie": [
           {
            "automargin": true,
            "type": "pie"
           }
          ],
          "scatter": [
           {
            "marker": {
             "colorbar": {
              "outlinewidth": 0,
              "ticks": ""
             }
            },
            "type": "scatter"
           }
          ],
          "scatter3d": [
           {
            "line": {
             "colorbar": {
              "outlinewidth": 0,
              "ticks": ""
             }
            },
            "marker": {
             "colorbar": {
              "outlinewidth": 0,
              "ticks": ""
             }
            },
            "type": "scatter3d"
           }
          ],
          "scattercarpet": [
           {
            "marker": {
             "colorbar": {
              "outlinewidth": 0,
              "ticks": ""
             }
            },
            "type": "scattercarpet"
           }
          ],
          "scattergeo": [
           {
            "marker": {
             "colorbar": {
              "outlinewidth": 0,
              "ticks": ""
             }
            },
            "type": "scattergeo"
           }
          ],
          "scattergl": [
           {
            "marker": {
             "colorbar": {
              "outlinewidth": 0,
              "ticks": ""
             }
            },
            "type": "scattergl"
           }
          ],
          "scattermapbox": [
           {
            "marker": {
             "colorbar": {
              "outlinewidth": 0,
              "ticks": ""
             }
            },
            "type": "scattermapbox"
           }
          ],
          "scatterpolar": [
           {
            "marker": {
             "colorbar": {
              "outlinewidth": 0,
              "ticks": ""
             }
            },
            "type": "scatterpolar"
           }
          ],
          "scatterpolargl": [
           {
            "marker": {
             "colorbar": {
              "outlinewidth": 0,
              "ticks": ""
             }
            },
            "type": "scatterpolargl"
           }
          ],
          "scatterternary": [
           {
            "marker": {
             "colorbar": {
              "outlinewidth": 0,
              "ticks": ""
             }
            },
            "type": "scatterternary"
           }
          ],
          "surface": [
           {
            "colorbar": {
             "outlinewidth": 0,
             "ticks": ""
            },
            "colorscale": [
             [
              0,
              "#0d0887"
             ],
             [
              0.1111111111111111,
              "#46039f"
             ],
             [
              0.2222222222222222,
              "#7201a8"
             ],
             [
              0.3333333333333333,
              "#9c179e"
             ],
             [
              0.4444444444444444,
              "#bd3786"
             ],
             [
              0.5555555555555556,
              "#d8576b"
             ],
             [
              0.6666666666666666,
              "#ed7953"
             ],
             [
              0.7777777777777778,
              "#fb9f3a"
             ],
             [
              0.8888888888888888,
              "#fdca26"
             ],
             [
              1,
              "#f0f921"
             ]
            ],
            "type": "surface"
           }
          ],
          "table": [
           {
            "cells": {
             "fill": {
              "color": "#EBF0F8"
             },
             "line": {
              "color": "white"
             }
            },
            "header": {
             "fill": {
              "color": "#C8D4E3"
             },
             "line": {
              "color": "white"
             }
            },
            "type": "table"
           }
          ]
         },
         "layout": {
          "annotationdefaults": {
           "arrowcolor": "#2a3f5f",
           "arrowhead": 0,
           "arrowwidth": 1
          },
          "coloraxis": {
           "colorbar": {
            "outlinewidth": 0,
            "ticks": ""
           }
          },
          "colorscale": {
           "diverging": [
            [
             0,
             "#8e0152"
            ],
            [
             0.1,
             "#c51b7d"
            ],
            [
             0.2,
             "#de77ae"
            ],
            [
             0.3,
             "#f1b6da"
            ],
            [
             0.4,
             "#fde0ef"
            ],
            [
             0.5,
             "#f7f7f7"
            ],
            [
             0.6,
             "#e6f5d0"
            ],
            [
             0.7,
             "#b8e186"
            ],
            [
             0.8,
             "#7fbc41"
            ],
            [
             0.9,
             "#4d9221"
            ],
            [
             1,
             "#276419"
            ]
           ],
           "sequential": [
            [
             0,
             "#0d0887"
            ],
            [
             0.1111111111111111,
             "#46039f"
            ],
            [
             0.2222222222222222,
             "#7201a8"
            ],
            [
             0.3333333333333333,
             "#9c179e"
            ],
            [
             0.4444444444444444,
             "#bd3786"
            ],
            [
             0.5555555555555556,
             "#d8576b"
            ],
            [
             0.6666666666666666,
             "#ed7953"
            ],
            [
             0.7777777777777778,
             "#fb9f3a"
            ],
            [
             0.8888888888888888,
             "#fdca26"
            ],
            [
             1,
             "#f0f921"
            ]
           ],
           "sequentialminus": [
            [
             0,
             "#0d0887"
            ],
            [
             0.1111111111111111,
             "#46039f"
            ],
            [
             0.2222222222222222,
             "#7201a8"
            ],
            [
             0.3333333333333333,
             "#9c179e"
            ],
            [
             0.4444444444444444,
             "#bd3786"
            ],
            [
             0.5555555555555556,
             "#d8576b"
            ],
            [
             0.6666666666666666,
             "#ed7953"
            ],
            [
             0.7777777777777778,
             "#fb9f3a"
            ],
            [
             0.8888888888888888,
             "#fdca26"
            ],
            [
             1,
             "#f0f921"
            ]
           ]
          },
          "colorway": [
           "#636efa",
           "#EF553B",
           "#00cc96",
           "#ab63fa",
           "#FFA15A",
           "#19d3f3",
           "#FF6692",
           "#B6E880",
           "#FF97FF",
           "#FECB52"
          ],
          "font": {
           "color": "#2a3f5f"
          },
          "geo": {
           "bgcolor": "white",
           "lakecolor": "white",
           "landcolor": "#E5ECF6",
           "showlakes": true,
           "showland": true,
           "subunitcolor": "white"
          },
          "hoverlabel": {
           "align": "left"
          },
          "hovermode": "closest",
          "mapbox": {
           "style": "light"
          },
          "paper_bgcolor": "white",
          "plot_bgcolor": "#E5ECF6",
          "polar": {
           "angularaxis": {
            "gridcolor": "white",
            "linecolor": "white",
            "ticks": ""
           },
           "bgcolor": "#E5ECF6",
           "radialaxis": {
            "gridcolor": "white",
            "linecolor": "white",
            "ticks": ""
           }
          },
          "scene": {
           "xaxis": {
            "backgroundcolor": "#E5ECF6",
            "gridcolor": "white",
            "gridwidth": 2,
            "linecolor": "white",
            "showbackground": true,
            "ticks": "",
            "zerolinecolor": "white"
           },
           "yaxis": {
            "backgroundcolor": "#E5ECF6",
            "gridcolor": "white",
            "gridwidth": 2,
            "linecolor": "white",
            "showbackground": true,
            "ticks": "",
            "zerolinecolor": "white"
           },
           "zaxis": {
            "backgroundcolor": "#E5ECF6",
            "gridcolor": "white",
            "gridwidth": 2,
            "linecolor": "white",
            "showbackground": true,
            "ticks": "",
            "zerolinecolor": "white"
           }
          },
          "shapedefaults": {
           "line": {
            "color": "#2a3f5f"
           }
          },
          "ternary": {
           "aaxis": {
            "gridcolor": "white",
            "linecolor": "white",
            "ticks": ""
           },
           "baxis": {
            "gridcolor": "white",
            "linecolor": "white",
            "ticks": ""
           },
           "bgcolor": "#E5ECF6",
           "caxis": {
            "gridcolor": "white",
            "linecolor": "white",
            "ticks": ""
           }
          },
          "title": {
           "x": 0.05
          },
          "xaxis": {
           "automargin": true,
           "gridcolor": "white",
           "linecolor": "white",
           "ticks": "",
           "title": {
            "standoff": 15
           },
           "zerolinecolor": "white",
           "zerolinewidth": 2
          },
          "yaxis": {
           "automargin": true,
           "gridcolor": "white",
           "linecolor": "white",
           "ticks": "",
           "title": {
            "standoff": 15
           },
           "zerolinecolor": "white",
           "zerolinewidth": 2
          }
         }
        },
        "title": {
         "text": "Sentiment of r/UMD Comments by Percent"
        }
       }
      },
      "text/html": [
       "<div>\n",
       "        \n",
       "        \n",
       "            <div id=\"cad33b7f-759d-4724-9326-4076903ef50f\" class=\"plotly-graph-div\" style=\"height:525px; width:100%;\"></div>\n",
       "            <script type=\"text/javascript\">\n",
       "                require([\"plotly\"], function(Plotly) {\n",
       "                    window.PLOTLYENV=window.PLOTLYENV || {};\n",
       "                    \n",
       "                if (document.getElementById(\"cad33b7f-759d-4724-9326-4076903ef50f\")) {\n",
       "                    Plotly.newPlot(\n",
       "                        'cad33b7f-759d-4724-9326-4076903ef50f',\n",
       "                        [{\"domain\": {\"x\": [0.0, 1.0], \"y\": [0.0, 1.0]}, \"hoverlabel\": {\"namelength\": 0}, \"hovertemplate\": \"sentiment=%{label}<br>count=%{value}\", \"labels\": [\"positive\", \"negative\", \"neutral\"], \"legendgroup\": \"\", \"name\": \"\", \"showlegend\": true, \"type\": \"pie\", \"values\": [21819, 15856, 4910]}],\n",
       "                        {\"legend\": {\"tracegroupgap\": 0}, \"template\": {\"data\": {\"bar\": [{\"error_x\": {\"color\": \"#2a3f5f\"}, \"error_y\": {\"color\": \"#2a3f5f\"}, \"marker\": {\"line\": {\"color\": \"#E5ECF6\", \"width\": 0.5}}, \"type\": \"bar\"}], \"barpolar\": [{\"marker\": {\"line\": {\"color\": \"#E5ECF6\", \"width\": 0.5}}, \"type\": \"barpolar\"}], \"carpet\": [{\"aaxis\": {\"endlinecolor\": \"#2a3f5f\", \"gridcolor\": \"white\", \"linecolor\": \"white\", \"minorgridcolor\": \"white\", \"startlinecolor\": \"#2a3f5f\"}, \"baxis\": {\"endlinecolor\": \"#2a3f5f\", \"gridcolor\": \"white\", \"linecolor\": \"white\", \"minorgridcolor\": \"white\", \"startlinecolor\": \"#2a3f5f\"}, \"type\": \"carpet\"}], \"choropleth\": [{\"colorbar\": {\"outlinewidth\": 0, \"ticks\": \"\"}, \"type\": \"choropleth\"}], \"contour\": [{\"colorbar\": {\"outlinewidth\": 0, \"ticks\": \"\"}, \"colorscale\": [[0.0, \"#0d0887\"], [0.1111111111111111, \"#46039f\"], [0.2222222222222222, \"#7201a8\"], [0.3333333333333333, \"#9c179e\"], [0.4444444444444444, \"#bd3786\"], [0.5555555555555556, \"#d8576b\"], [0.6666666666666666, \"#ed7953\"], [0.7777777777777778, \"#fb9f3a\"], [0.8888888888888888, \"#fdca26\"], [1.0, \"#f0f921\"]], \"type\": \"contour\"}], \"contourcarpet\": [{\"colorbar\": {\"outlinewidth\": 0, \"ticks\": \"\"}, \"type\": \"contourcarpet\"}], \"heatmap\": [{\"colorbar\": {\"outlinewidth\": 0, \"ticks\": \"\"}, \"colorscale\": [[0.0, \"#0d0887\"], [0.1111111111111111, \"#46039f\"], [0.2222222222222222, \"#7201a8\"], [0.3333333333333333, \"#9c179e\"], [0.4444444444444444, \"#bd3786\"], [0.5555555555555556, \"#d8576b\"], [0.6666666666666666, \"#ed7953\"], [0.7777777777777778, \"#fb9f3a\"], [0.8888888888888888, \"#fdca26\"], [1.0, \"#f0f921\"]], \"type\": \"heatmap\"}], \"heatmapgl\": [{\"colorbar\": {\"outlinewidth\": 0, \"ticks\": \"\"}, \"colorscale\": [[0.0, \"#0d0887\"], [0.1111111111111111, \"#46039f\"], [0.2222222222222222, \"#7201a8\"], [0.3333333333333333, \"#9c179e\"], [0.4444444444444444, \"#bd3786\"], [0.5555555555555556, \"#d8576b\"], [0.6666666666666666, \"#ed7953\"], [0.7777777777777778, \"#fb9f3a\"], [0.8888888888888888, \"#fdca26\"], [1.0, \"#f0f921\"]], \"type\": \"heatmapgl\"}], \"histogram\": [{\"marker\": {\"colorbar\": {\"outlinewidth\": 0, \"ticks\": \"\"}}, \"type\": \"histogram\"}], \"histogram2d\": [{\"colorbar\": {\"outlinewidth\": 0, \"ticks\": \"\"}, \"colorscale\": [[0.0, \"#0d0887\"], [0.1111111111111111, \"#46039f\"], [0.2222222222222222, \"#7201a8\"], [0.3333333333333333, \"#9c179e\"], [0.4444444444444444, \"#bd3786\"], [0.5555555555555556, \"#d8576b\"], [0.6666666666666666, \"#ed7953\"], [0.7777777777777778, \"#fb9f3a\"], [0.8888888888888888, \"#fdca26\"], [1.0, \"#f0f921\"]], \"type\": \"histogram2d\"}], \"histogram2dcontour\": [{\"colorbar\": {\"outlinewidth\": 0, \"ticks\": \"\"}, \"colorscale\": [[0.0, \"#0d0887\"], [0.1111111111111111, \"#46039f\"], [0.2222222222222222, \"#7201a8\"], [0.3333333333333333, \"#9c179e\"], [0.4444444444444444, \"#bd3786\"], [0.5555555555555556, \"#d8576b\"], [0.6666666666666666, \"#ed7953\"], [0.7777777777777778, \"#fb9f3a\"], [0.8888888888888888, \"#fdca26\"], [1.0, \"#f0f921\"]], \"type\": \"histogram2dcontour\"}], \"mesh3d\": [{\"colorbar\": {\"outlinewidth\": 0, \"ticks\": \"\"}, \"type\": \"mesh3d\"}], \"parcoords\": [{\"line\": {\"colorbar\": {\"outlinewidth\": 0, \"ticks\": \"\"}}, \"type\": \"parcoords\"}], \"pie\": [{\"automargin\": true, \"type\": \"pie\"}], \"scatter\": [{\"marker\": {\"colorbar\": {\"outlinewidth\": 0, \"ticks\": \"\"}}, \"type\": \"scatter\"}], \"scatter3d\": [{\"line\": {\"colorbar\": {\"outlinewidth\": 0, \"ticks\": \"\"}}, \"marker\": {\"colorbar\": {\"outlinewidth\": 0, \"ticks\": \"\"}}, \"type\": \"scatter3d\"}], \"scattercarpet\": [{\"marker\": {\"colorbar\": {\"outlinewidth\": 0, \"ticks\": \"\"}}, \"type\": \"scattercarpet\"}], \"scattergeo\": [{\"marker\": {\"colorbar\": {\"outlinewidth\": 0, \"ticks\": \"\"}}, \"type\": \"scattergeo\"}], \"scattergl\": [{\"marker\": {\"colorbar\": {\"outlinewidth\": 0, \"ticks\": \"\"}}, \"type\": \"scattergl\"}], \"scattermapbox\": [{\"marker\": {\"colorbar\": {\"outlinewidth\": 0, \"ticks\": \"\"}}, \"type\": \"scattermapbox\"}], \"scatterpolar\": [{\"marker\": {\"colorbar\": {\"outlinewidth\": 0, \"ticks\": \"\"}}, \"type\": \"scatterpolar\"}], \"scatterpolargl\": [{\"marker\": {\"colorbar\": {\"outlinewidth\": 0, \"ticks\": \"\"}}, \"type\": \"scatterpolargl\"}], \"scatterternary\": [{\"marker\": {\"colorbar\": {\"outlinewidth\": 0, \"ticks\": \"\"}}, \"type\": \"scatterternary\"}], \"surface\": [{\"colorbar\": {\"outlinewidth\": 0, \"ticks\": \"\"}, \"colorscale\": [[0.0, \"#0d0887\"], [0.1111111111111111, \"#46039f\"], [0.2222222222222222, \"#7201a8\"], [0.3333333333333333, \"#9c179e\"], [0.4444444444444444, \"#bd3786\"], [0.5555555555555556, \"#d8576b\"], [0.6666666666666666, \"#ed7953\"], [0.7777777777777778, \"#fb9f3a\"], [0.8888888888888888, \"#fdca26\"], [1.0, \"#f0f921\"]], \"type\": \"surface\"}], \"table\": [{\"cells\": {\"fill\": {\"color\": \"#EBF0F8\"}, \"line\": {\"color\": \"white\"}}, \"header\": {\"fill\": {\"color\": \"#C8D4E3\"}, \"line\": {\"color\": \"white\"}}, \"type\": \"table\"}]}, \"layout\": {\"annotationdefaults\": {\"arrowcolor\": \"#2a3f5f\", \"arrowhead\": 0, \"arrowwidth\": 1}, \"coloraxis\": {\"colorbar\": {\"outlinewidth\": 0, \"ticks\": \"\"}}, \"colorscale\": {\"diverging\": [[0, \"#8e0152\"], [0.1, \"#c51b7d\"], [0.2, \"#de77ae\"], [0.3, \"#f1b6da\"], [0.4, \"#fde0ef\"], [0.5, \"#f7f7f7\"], [0.6, \"#e6f5d0\"], [0.7, \"#b8e186\"], [0.8, \"#7fbc41\"], [0.9, \"#4d9221\"], [1, \"#276419\"]], \"sequential\": [[0.0, \"#0d0887\"], [0.1111111111111111, \"#46039f\"], [0.2222222222222222, \"#7201a8\"], [0.3333333333333333, \"#9c179e\"], [0.4444444444444444, \"#bd3786\"], [0.5555555555555556, \"#d8576b\"], [0.6666666666666666, \"#ed7953\"], [0.7777777777777778, \"#fb9f3a\"], [0.8888888888888888, \"#fdca26\"], [1.0, \"#f0f921\"]], \"sequentialminus\": [[0.0, \"#0d0887\"], [0.1111111111111111, \"#46039f\"], [0.2222222222222222, \"#7201a8\"], [0.3333333333333333, \"#9c179e\"], [0.4444444444444444, \"#bd3786\"], [0.5555555555555556, \"#d8576b\"], [0.6666666666666666, \"#ed7953\"], [0.7777777777777778, \"#fb9f3a\"], [0.8888888888888888, \"#fdca26\"], [1.0, \"#f0f921\"]]}, \"colorway\": [\"#636efa\", \"#EF553B\", \"#00cc96\", \"#ab63fa\", \"#FFA15A\", \"#19d3f3\", \"#FF6692\", \"#B6E880\", \"#FF97FF\", \"#FECB52\"], \"font\": {\"color\": \"#2a3f5f\"}, \"geo\": {\"bgcolor\": \"white\", \"lakecolor\": \"white\", \"landcolor\": \"#E5ECF6\", \"showlakes\": true, \"showland\": true, \"subunitcolor\": \"white\"}, \"hoverlabel\": {\"align\": \"left\"}, \"hovermode\": \"closest\", \"mapbox\": {\"style\": \"light\"}, \"paper_bgcolor\": \"white\", \"plot_bgcolor\": \"#E5ECF6\", \"polar\": {\"angularaxis\": {\"gridcolor\": \"white\", \"linecolor\": \"white\", \"ticks\": \"\"}, \"bgcolor\": \"#E5ECF6\", \"radialaxis\": {\"gridcolor\": \"white\", \"linecolor\": \"white\", \"ticks\": \"\"}}, \"scene\": {\"xaxis\": {\"backgroundcolor\": \"#E5ECF6\", \"gridcolor\": \"white\", \"gridwidth\": 2, \"linecolor\": \"white\", \"showbackground\": true, \"ticks\": \"\", \"zerolinecolor\": \"white\"}, \"yaxis\": {\"backgroundcolor\": \"#E5ECF6\", \"gridcolor\": \"white\", \"gridwidth\": 2, \"linecolor\": \"white\", \"showbackground\": true, \"ticks\": \"\", \"zerolinecolor\": \"white\"}, \"zaxis\": {\"backgroundcolor\": \"#E5ECF6\", \"gridcolor\": \"white\", \"gridwidth\": 2, \"linecolor\": \"white\", \"showbackground\": true, \"ticks\": \"\", \"zerolinecolor\": \"white\"}}, \"shapedefaults\": {\"line\": {\"color\": \"#2a3f5f\"}}, \"ternary\": {\"aaxis\": {\"gridcolor\": \"white\", \"linecolor\": \"white\", \"ticks\": \"\"}, \"baxis\": {\"gridcolor\": \"white\", \"linecolor\": \"white\", \"ticks\": \"\"}, \"bgcolor\": \"#E5ECF6\", \"caxis\": {\"gridcolor\": \"white\", \"linecolor\": \"white\", \"ticks\": \"\"}}, \"title\": {\"x\": 0.05}, \"xaxis\": {\"automargin\": true, \"gridcolor\": \"white\", \"linecolor\": \"white\", \"ticks\": \"\", \"title\": {\"standoff\": 15}, \"zerolinecolor\": \"white\", \"zerolinewidth\": 2}, \"yaxis\": {\"automargin\": true, \"gridcolor\": \"white\", \"linecolor\": \"white\", \"ticks\": \"\", \"title\": {\"standoff\": 15}, \"zerolinecolor\": \"white\", \"zerolinewidth\": 2}}}, \"title\": {\"text\": \"Sentiment of r/UMD Comments by Percent\"}},\n",
       "                        {\"responsive\": true}\n",
       "                    ).then(function(){\n",
       "                            \n",
       "var gd = document.getElementById('cad33b7f-759d-4724-9326-4076903ef50f');\n",
       "var x = new MutationObserver(function (mutations, observer) {{\n",
       "        var display = window.getComputedStyle(gd).display;\n",
       "        if (!display || display === 'none') {{\n",
       "            console.log([gd, 'removed!']);\n",
       "            Plotly.purge(gd);\n",
       "            observer.disconnect();\n",
       "        }}\n",
       "}});\n",
       "\n",
       "// Listen for the removal of the full notebook cells\n",
       "var notebookContainer = gd.closest('#notebook-container');\n",
       "if (notebookContainer) {{\n",
       "    x.observe(notebookContainer, {childList: true});\n",
       "}}\n",
       "\n",
       "// Listen for the clearing of the current output cell\n",
       "var outputEl = gd.closest('.output');\n",
       "if (outputEl) {{\n",
       "    x.observe(outputEl, {childList: true});\n",
       "}}\n",
       "\n",
       "                        })\n",
       "                };\n",
       "                });\n",
       "            </script>\n",
       "        </div>"
      ]
     },
     "metadata": {},
     "output_type": "display_data"
    }
   ],
   "source": [
    "df_temp = pd.DataFrame()\n",
    "df_temp['sentiment'] = sent_count.keys()\n",
    "df_temp['count'] = sent_count.values()\n",
    "fig = px.pie(df_temp, values = 'count', names='sentiment', title = 'Sentiment of r/UMD Comments by Percent')\n",
    "fig.show()"
   ]
  }
 ],
 "metadata": {
  "kernelspec": {
   "display_name": "Python 3",
   "language": "python",
   "name": "python3"
  },
  "language_info": {
   "codemirror_mode": {
    "name": "ipython",
    "version": 3
   },
   "file_extension": ".py",
   "mimetype": "text/x-python",
   "name": "python",
   "nbconvert_exporter": "python",
   "pygments_lexer": "ipython3",
   "version": "3.7.3"
  }
 },
 "nbformat": 4,
 "nbformat_minor": 2
}
